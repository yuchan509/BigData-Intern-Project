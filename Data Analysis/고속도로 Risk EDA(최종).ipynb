{
 "cells": [
  {
   "cell_type": "markdown",
   "id": "4ff5bdf2",
   "metadata": {},
   "source": [
    "### 사고가 많이 발생하는 고속국도에서의 골든 타임을 확보하기 위한 병원 입지 선정 "
   ]
  },
  {
   "cell_type": "markdown",
   "id": "554b3058",
   "metadata": {},
   "source": [
    "#### 사용 모듈"
   ]
  },
  {
   "cell_type": "code",
   "execution_count": 1,
   "id": "3c32b1a3",
   "metadata": {},
   "outputs": [],
   "source": [
    "import mglearn\n",
    "import calplot\n",
    "import datetime\n",
    "import platform\n",
    "import numpy as np\n",
    "import pandas as pd\n",
    "import seaborn as sb\n",
    "from tqdm import tqdm\n",
    "from scipy import stats\n",
    "import sklearn.metrics as m\n",
    "import statsmodels.api as sm\n",
    "from itertools import chain, combinations\n",
    "# pd.set_option('display.max_columns', None)\n",
    "import matplotlib\n",
    "import matplotlib.pyplot as plt\n",
    "matplotlib.rcParams['font.family']='Malgun Gothic'\n",
    "matplotlib.rcParams['axes.unicode_minus'] = False\n",
    "import plotly.graph_objs as go\n",
    "\n",
    "from collections import Counter\n",
    "import matplotlib.pyplot as plt\n",
    "from IPython.display import Image\n",
    "\n",
    "from sklearn.model_selection import KFold\n",
    "from sklearn.pipeline import make_pipeline\n",
    "from sklearn.neural_network import MLPRegressor\n",
    "from sklearn.model_selection import GridSearchCV\n",
    "from sklearn.neighbors import KNeighborsRegressor\n",
    "from sklearn.compose import make_column_transformer\n",
    "from sklearn.model_selection import train_test_split\n",
    "from sklearn.preprocessing import StandardScaler, MinMaxScaler\n",
    "from statsmodels.graphics.tsaplots import acf, plot_acf, plot_pacf\n",
    "from sklearn.ensemble import VotingClassifier, RandomForestRegressor\n",
    "from sklearn.preprocessing import StandardScaler, OneHotEncoder, LabelEncoder\n",
    "from statsmodels.stats.outliers_influence import variance_inflation_factor \n",
    "from sklearn.linear_model import LinearRegression, Ridge, SGDRegressor, Lasso, ElasticNet\n",
    "\n",
    "import warnings\n",
    "warnings.simplefilter('ignore')"
   ]
  },
  {
   "cell_type": "markdown",
   "id": "5e5577b1",
   "metadata": {},
   "source": [
    "### 분석 전 사고 방향\n",
    "#### Step1. 고속국도 위에서 사고를 일으키는 요인에 대한 분석을 진행.\n",
    "\n",
    "#### Step2. 사고가 발생한 발생지_시도 또는 발생지_시군구별에 대한 위험도 계산.\n",
    "- 즉, 사고 위험도에 대한 공식을 세우고(찾고), 각 행에 대한 위험도를 계산한 위험도 컬럼을 생성.\n",
    "- 위험도에 대한 예측을 진행? 위험도에 대한 분류를 하는 것이 맞는가? <--- 머신러닝과 딥러닝\n",
    "- 여기서 필요한 작업 -> 각 시군구 별 위경도 데이터 확보가 무조건 필요.\n",
    "\n",
    "#### Step3. 각 분류별 응급실 + 휴게소 분포 현황에 대한 분석이 필요.\n",
    "- 휴게소와 사고와의 관계가 클까?\n",
    "- 응급실과 사고와의 관계가 클까?\n",
    "\n",
    "#### Step4. 기타 고려 사항이 필요.\n",
    "\n",
    "\n",
    "#### Step5. 위 스텝을 모두 고려한 시각화 진행."
   ]
  },
  {
   "cell_type": "markdown",
   "id": "87ec2fbf",
   "metadata": {},
   "source": [
    "#### 데이터 읽기"
   ]
  },
  {
   "cell_type": "code",
   "execution_count": 2,
   "id": "0e7cf928",
   "metadata": {},
   "outputs": [
    {
     "data": {
      "text/plain": [
       "(12448, 34)"
      ]
     },
     "execution_count": 2,
     "metadata": {},
     "output_type": "execute_result"
    }
   ],
   "source": [
    "# 2017년 ~ 2019년 고속국도 내 사고 현황 데이터 불러오기.\n",
    "df = pd.read_csv('C:/Users/user/Desktop/express accident1.csv')\n",
    "df.shape"
   ]
  },
  {
   "cell_type": "markdown",
   "id": "5fe4aebe",
   "metadata": {},
   "source": [
    "### 데이터 명세서"
   ]
  },
  {
   "cell_type": "markdown",
   "id": "11d46537",
   "metadata": {},
   "source": [
    "#### 데이터 변수\n",
    "- 변수(feature) 개수 : 36개\n",
    "---\n",
    "- **발생일** \n",
    "    - 2017년 ~ 2019년 Calmap을 통한 일별 사고 건수 표현. 일별 Risk 표현.\n",
    "    - 일별, 월별, 요일에 따른 위험도 및 사고 건수 확인.\n",
    "---\n",
    "- **발생시간** \n",
    "    - 0 ~ 24시 사이에서 발생한 사고 건수 및 시간대별 리스크 표현.\n",
    "    - 막대 그래프(1시간 단위) dodge, 파이차트(출퇴근, 오전, 오후, 퇴근, 밤, 새벽)\n",
    "---\n",
    "- **발생지_시도** \n",
    "    - 권역별 사고건수 및 리스크 위주의 파악.\n",
    "    - 막대그래프 dodge.\n",
    "---\n",
    "- **발생지_시군구**\n",
    "    - 지역별 사고건수 및 리스크 위주의 파악.\n",
    "    - 막대그래프 dodge.\n",
    "---\n",
    "- **요일**\n",
    "    - 요일별 사고건수 및 리스크 위주의 파악.\n",
    "    - 막대그래프 dodge.\n",
    "---\n",
    "- **사고내용**\n",
    "    - 중상, 사망 빈도 표현.\n",
    "---\n",
    "- **사고유형_대분류**\n",
    "    - 차대차, 차대 사람, 차량 단독\n",
    "---\n",
    "- **사고유형_중분류**\n",
    "    - 아래 항목에 대한 막대그래프 표현.\n",
    "        - 공작물충돌\n",
    "        - 길 가장자리 구역 통행중\n",
    "        - 도로 이탈\n",
    "        - 보도 통행중\n",
    "        - 전도 : 자동차의 측면이 도로에 접한 상태로 넘어진 사고.\n",
    "        - 전복 : 운행중의 사고로 인해 자동차가 뒤집어진 사고.\n",
    "        - 추돌 : 주행 중 앞차가 급정거를 하고, 뒤쫓아가던 차가 부딪히는 사고.\n",
    "        - 전도전복\n",
    "        - 정면충돌\n",
    "        - 차도통행중\n",
    "        - 횡단중\n",
    "        - 측면충돌\n",
    "        - 후진중 충돌\n",
    "        - 기타 \n",
    "---\n",
    "- **사고유형**\n",
    "    - 공작물 충돌에 대한 빈도 표현.\n",
    "    - 막대그래프 dodge.\n",
    "    \n",
    "---\n",
    "- **가해자법규위반**\n",
    "    - 안전 의무 빈도 표현. \n",
    "    \n",
    "---\n",
    "- **가해자성별**\n",
    "- **피해자성별**\n",
    "    - 가해자 및 피해자 안전, 의무 빈도 표현.\n",
    "---\n",
    "- **가해자연령**\n",
    "- **피해자연령**\n",
    "    - 가해자 및 피해자 연령별에 따른 리스크 및 사고건수 표현\n",
    "---\n",
    "#### 중요 요소 변수\n",
    "- **가해당사자종별**\n",
    "- **피해당사자종별**\n",
    "    - 빈도 표현.(보류)\n",
    "---\n",
    "- **가해자신체상해정도**\n",
    "- **피해자신체상해정도**\n",
    "    - 가해자 및 피해자 신체 상해 정도 비교 표현.\n",
    "\n",
    "---\n",
    "- **가해차량용도_대분류**\n",
    "- **가해차량용도_중분류**\n",
    "- **가해차량용도**\n",
    "---\n",
    "- **피해차량용도_대분류**\n",
    "- **피해차량용도_중분류** \n",
    "- **피해차량용도**\n",
    "    - 6개중 차량 용도만을 사용하고, 2개만 사용.\n",
    "    - 차량에 따른 발생지_시군구별 사고건수및 risk\n",
    "---\n",
    "- **도로종류**\n",
    "    - 고속 국도 데이터이므로 삭제.\n",
    "\n",
    "---\n",
    "- **도로형태_대분류**\n",
    "- **도로형태**\n",
    "    - 삭제 예정\n",
    "\n",
    "---\n",
    "- **노면상태_대분류**\n",
    "    - 포장, 비포장 라벨에 대한 데이터 불균형 문제로 삭제.\n",
    "\n",
    "---    \n",
    "- **노면상태**\n",
    "- **기상상태**\n",
    "    - 두 데이터 간의 상관관계 plot 파악.\n",
    "    - 가중치 임의 및 기준을 이용하여 RISK 계산시 활용.(분석이 필요해 보임)\n",
    "\n",
    "---\n",
    "- **사망자수**\n",
    "- **중상자수**\n",
    "- **경상자수**\n",
    "    - 시군구별에 따른 사망자, 중상자 수, 경상자 수 파악.\n",
    "    - 발생시_시군구 데이터와의 분석 및 결합.\n",
    "\n",
    "---\n",
    "- **부상신고자수**\n",
    "    - https://www.index.go.kr/potal/main/EachDtlPageDetail.do?idx_cd=1614\n",
    "    - 교통사고 : * 집계 기준 : 차의 교통으로 인하여 발생한 인적피해를 수반하는 경찰접수 처리한 교통사고 기준.\n",
    "        - 교통사고 사망자 기준 : 교통사고 발생일로 부터 30일 이내에 사망한 경우\n",
    "        - 중상자 : 3주 이상의 치료를 요하는 부상자\n",
    "        - 경상자 : 5일 이상 3주 미만의 치료를 요하는 부상자\n",
    "        - 부상신고 : 5일 미만의 치료를 요하는 부상을 입은 경우"
   ]
  },
  {
   "cell_type": "markdown",
   "id": "6df2cd08",
   "metadata": {},
   "source": [
    "#### 데이터 전처리\n",
    "- 데이터 삭제\n",
    "    - 사고 유형의 경우 사고유형_중분류 데이터와의 중복으로 삭제.\n",
    "    - 도로 종류는 고속국도로 한정시켜 가져온 데이터이므로 삭제."
   ]
  },
  {
   "cell_type": "code",
   "execution_count": 3,
   "id": "1cb5aa62",
   "metadata": {},
   "outputs": [
    {
     "data": {
      "text/html": [
       "<div>\n",
       "<style scoped>\n",
       "    .dataframe tbody tr th:only-of-type {\n",
       "        vertical-align: middle;\n",
       "    }\n",
       "\n",
       "    .dataframe tbody tr th {\n",
       "        vertical-align: top;\n",
       "    }\n",
       "\n",
       "    .dataframe thead th {\n",
       "        text-align: right;\n",
       "    }\n",
       "</style>\n",
       "<table border=\"1\" class=\"dataframe\">\n",
       "  <thead>\n",
       "    <tr style=\"text-align: right;\">\n",
       "      <th></th>\n",
       "      <th>발생일</th>\n",
       "      <th>발생시간</th>\n",
       "      <th>발생지_시도</th>\n",
       "      <th>발생지_시군구</th>\n",
       "      <th>요일</th>\n",
       "      <th>사고내용</th>\n",
       "      <th>사고유형_대분류</th>\n",
       "      <th>사고유형_중분류</th>\n",
       "      <th>가해자법규위반</th>\n",
       "      <th>가해자성별</th>\n",
       "      <th>...</th>\n",
       "      <th>가해차량용도</th>\n",
       "      <th>피해차량용도_대분류</th>\n",
       "      <th>피해차량용도_중분류</th>\n",
       "      <th>피해차량용도</th>\n",
       "      <th>기상상태</th>\n",
       "      <th>노면상태</th>\n",
       "      <th>사망자수</th>\n",
       "      <th>중상자수</th>\n",
       "      <th>경상자수</th>\n",
       "      <th>부상신고자수</th>\n",
       "    </tr>\n",
       "  </thead>\n",
       "  <tbody>\n",
       "    <tr>\n",
       "      <th>0</th>\n",
       "      <td>20170101</td>\n",
       "      <td>00시</td>\n",
       "      <td>경북</td>\n",
       "      <td>구미시</td>\n",
       "      <td>일</td>\n",
       "      <td>중상</td>\n",
       "      <td>차대차</td>\n",
       "      <td>추돌</td>\n",
       "      <td>안전운전 의무 불이행</td>\n",
       "      <td>남</td>\n",
       "      <td>...</td>\n",
       "      <td>승용차</td>\n",
       "      <td>비사업용</td>\n",
       "      <td>승용차</td>\n",
       "      <td>승용차</td>\n",
       "      <td>맑음</td>\n",
       "      <td>건조</td>\n",
       "      <td>0</td>\n",
       "      <td>8</td>\n",
       "      <td>0</td>\n",
       "      <td>1</td>\n",
       "    </tr>\n",
       "    <tr>\n",
       "      <th>1</th>\n",
       "      <td>20170101</td>\n",
       "      <td>02시</td>\n",
       "      <td>충남</td>\n",
       "      <td>홍성군</td>\n",
       "      <td>일</td>\n",
       "      <td>사망</td>\n",
       "      <td>차대차</td>\n",
       "      <td>추돌</td>\n",
       "      <td>안전운전 의무 불이행</td>\n",
       "      <td>남</td>\n",
       "      <td>...</td>\n",
       "      <td>승용차</td>\n",
       "      <td>비사업용</td>\n",
       "      <td>승용차</td>\n",
       "      <td>승용차</td>\n",
       "      <td>맑음</td>\n",
       "      <td>건조</td>\n",
       "      <td>1</td>\n",
       "      <td>0</td>\n",
       "      <td>1</td>\n",
       "      <td>0</td>\n",
       "    </tr>\n",
       "    <tr>\n",
       "      <th>2</th>\n",
       "      <td>20170101</td>\n",
       "      <td>03시</td>\n",
       "      <td>경북</td>\n",
       "      <td>상주시</td>\n",
       "      <td>일</td>\n",
       "      <td>경상</td>\n",
       "      <td>차대차</td>\n",
       "      <td>기타</td>\n",
       "      <td>안전운전 의무 불이행</td>\n",
       "      <td>남</td>\n",
       "      <td>...</td>\n",
       "      <td>위험물운송</td>\n",
       "      <td>사업용</td>\n",
       "      <td>렌터카</td>\n",
       "      <td>렌터카</td>\n",
       "      <td>맑음</td>\n",
       "      <td>건조</td>\n",
       "      <td>0</td>\n",
       "      <td>0</td>\n",
       "      <td>2</td>\n",
       "      <td>0</td>\n",
       "    </tr>\n",
       "    <tr>\n",
       "      <th>3</th>\n",
       "      <td>20170101</td>\n",
       "      <td>04시</td>\n",
       "      <td>서울</td>\n",
       "      <td>금천구</td>\n",
       "      <td>일</td>\n",
       "      <td>부상신고</td>\n",
       "      <td>차대차</td>\n",
       "      <td>측면충돌</td>\n",
       "      <td>기타</td>\n",
       "      <td>기타불명</td>\n",
       "      <td>...</td>\n",
       "      <td>불명</td>\n",
       "      <td>사업용</td>\n",
       "      <td>렌터카</td>\n",
       "      <td>렌터카</td>\n",
       "      <td>맑음</td>\n",
       "      <td>젖음/습기</td>\n",
       "      <td>0</td>\n",
       "      <td>0</td>\n",
       "      <td>0</td>\n",
       "      <td>1</td>\n",
       "    </tr>\n",
       "    <tr>\n",
       "      <th>4</th>\n",
       "      <td>20170101</td>\n",
       "      <td>07시</td>\n",
       "      <td>강원</td>\n",
       "      <td>강릉시</td>\n",
       "      <td>일</td>\n",
       "      <td>경상</td>\n",
       "      <td>차대차</td>\n",
       "      <td>추돌</td>\n",
       "      <td>안전운전 의무 불이행</td>\n",
       "      <td>여</td>\n",
       "      <td>...</td>\n",
       "      <td>승용차</td>\n",
       "      <td>비사업용</td>\n",
       "      <td>승용차</td>\n",
       "      <td>승용차</td>\n",
       "      <td>맑음</td>\n",
       "      <td>건조</td>\n",
       "      <td>0</td>\n",
       "      <td>0</td>\n",
       "      <td>4</td>\n",
       "      <td>0</td>\n",
       "    </tr>\n",
       "  </tbody>\n",
       "</table>\n",
       "<p>5 rows × 29 columns</p>\n",
       "</div>"
      ],
      "text/plain": [
       "        발생일 발생시간 발생지_시도 발생지_시군구 요일  사고내용 사고유형_대분류 사고유형_중분류      가해자법규위반 가해자성별  \\\n",
       "0  20170101  00시     경북     구미시  일    중상      차대차       추돌  안전운전 의무 불이행     남   \n",
       "1  20170101  02시     충남     홍성군  일    사망      차대차       추돌  안전운전 의무 불이행     남   \n",
       "2  20170101  03시     경북     상주시  일    경상      차대차       기타  안전운전 의무 불이행     남   \n",
       "3  20170101  04시     서울     금천구  일  부상신고      차대차     측면충돌           기타  기타불명   \n",
       "4  20170101  07시     강원     강릉시  일    경상      차대차       추돌  안전운전 의무 불이행     여   \n",
       "\n",
       "   ... 가해차량용도 피해차량용도_대분류 피해차량용도_중분류 피해차량용도 기상상태   노면상태 사망자수 중상자수 경상자수 부상신고자수  \n",
       "0  ...    승용차       비사업용        승용차    승용차   맑음     건조    0    8    0      1  \n",
       "1  ...    승용차       비사업용        승용차    승용차   맑음     건조    1    0    1      0  \n",
       "2  ...  위험물운송        사업용        렌터카    렌터카   맑음     건조    0    0    2      0  \n",
       "3  ...     불명        사업용        렌터카    렌터카   맑음  젖음/습기    0    0    0      1  \n",
       "4  ...    승용차       비사업용        승용차    승용차   맑음     건조    0    0    4      0  \n",
       "\n",
       "[5 rows x 29 columns]"
      ]
     },
     "execution_count": 3,
     "metadata": {},
     "output_type": "execute_result"
    }
   ],
   "source": [
    "# 필요없는 데이터 삭제.\n",
    "df.drop(['도로형태', '도로형태_대분류', '도로종류', '사고유형', '노면상태_대분류'], axis = 1, inplace = True)\n",
    "df.head()"
   ]
  },
  {
   "cell_type": "markdown",
   "id": "d887b48f",
   "metadata": {},
   "source": [
    "#### 데이터 결측치 확인\n",
    "- 결측치 확인 결과 결측은 존재하지 않음."
   ]
  },
  {
   "cell_type": "code",
   "execution_count": 4,
   "id": "02b905bc",
   "metadata": {},
   "outputs": [
    {
     "data": {
      "text/plain": [
       "발생일           0\n",
       "발생시간          0\n",
       "발생지_시도        0\n",
       "발생지_시군구       0\n",
       "요일            0\n",
       "사고내용          0\n",
       "사고유형_대분류      0\n",
       "사고유형_중분류      0\n",
       "가해자법규위반       0\n",
       "가해자성별         0\n",
       "가해자연령         0\n",
       "가해당사자종별       0\n",
       "가해자신체상해정도     0\n",
       "피해자성별         0\n",
       "피해자연령         0\n",
       "피해당사자종별       0\n",
       "피해자신체상해정도     0\n",
       "가해차량용도_대분류    0\n",
       "가해차량용도_중분류    0\n",
       "가해차량용도        0\n",
       "피해차량용도_대분류    0\n",
       "피해차량용도_중분류    0\n",
       "피해차량용도        0\n",
       "기상상태          0\n",
       "노면상태          0\n",
       "사망자수          0\n",
       "중상자수          0\n",
       "경상자수          0\n",
       "부상신고자수        0\n",
       "dtype: int64"
      ]
     },
     "execution_count": 4,
     "metadata": {},
     "output_type": "execute_result"
    }
   ],
   "source": [
    "df.isna().sum()"
   ]
  },
  {
   "cell_type": "markdown",
   "id": "122f8449",
   "metadata": {},
   "source": [
    "#### 시군구 별에 따른 응급실 수"
   ]
  },
  {
   "cell_type": "code",
   "execution_count": 5,
   "id": "a81728b0",
   "metadata": {},
   "outputs": [],
   "source": [
    "df_응급실 = pd.read_csv('C:/Users/user/Desktop/응급실 최종.csv')\n",
    "df_응급실.columns = ['이름', '주소', '시도', '시군구', 'lat', 'lon']\n",
    "응급 = df_응급실['시군구'].value_counts()\n",
    "응급_dic = {n : i for i, n in zip(응급.values, 응급.index)}\n",
    "응급_count = [0  if str(응급_dic.get(i)) == 'None' else 응급_dic.get(i) for i in df['발생지_시군구']]\n",
    "df['응급실 개수'] = 응급_count"
   ]
  },
  {
   "cell_type": "markdown",
   "id": "a45842f6",
   "metadata": {},
   "source": [
    "#### 시군구 별에 따른 인구 데이터"
   ]
  },
  {
   "cell_type": "code",
   "execution_count": 6,
   "id": "70c896b9",
   "metadata": {},
   "outputs": [],
   "source": [
    "df_인구 = pd.read_csv('C:/Users/user/Desktop/도시지역_인구현황_시군구__20210813095003.csv', encoding='euc-kr')\n",
    "df_인구.index = df_인구['소재지(시군구)별(2)']\n",
    "df_인구1 = df_인구[['2017', '2018', '2019']]\n",
    "df_인구2 = df_인구1.drop(['소계'])[2:]\n",
    "\n",
    "# 미주홀구에 대한 결측이 존재하여, 존재하는 연도의 평균으로 대치.\n",
    "df_인구2['2017'] = [412702.0 if str(i) == '-' else i for i in df_인구2['2017']]\n",
    "df_인구2['2018'] = [np.nan if str(i) == '-' else i for i in df_인구2['2018']]\n",
    "df_인구2['2019'] = [np.nan if str(i) == '-' else i for i in df_인구2['2019']]\n",
    "\n",
    "df_인구3 = df_인구2.dropna()\n",
    "df_인구3 = df_인구3.astype('int')\n",
    "b = round(df_인구3.mean(axis=1))\n",
    "\n",
    "인구_dic = {i : j for i , j in zip(b.index, b.values)}\n",
    "인구_count = [0  if str(인구_dic.get(i)) == 'None' else 인구_dic.get(i) for i in df['발생지_시군구']]\n",
    "df['시군구별_인구'] = 인구_count"
   ]
  },
  {
   "cell_type": "markdown",
   "id": "8102e515",
   "metadata": {},
   "source": [
    "#### Risk 가중치 계산\n",
    "- http://taas.koroad.or.kr/TCFS/"
   ]
  },
  {
   "cell_type": "code",
   "execution_count": 7,
   "id": "99a1755b",
   "metadata": {},
   "outputs": [
    {
     "data": {
      "text/html": [
       "<div>\n",
       "<style scoped>\n",
       "    .dataframe tbody tr th:only-of-type {\n",
       "        vertical-align: middle;\n",
       "    }\n",
       "\n",
       "    .dataframe tbody tr th {\n",
       "        vertical-align: top;\n",
       "    }\n",
       "\n",
       "    .dataframe thead th {\n",
       "        text-align: right;\n",
       "    }\n",
       "</style>\n",
       "<table border=\"1\" class=\"dataframe\">\n",
       "  <thead>\n",
       "    <tr style=\"text-align: right;\">\n",
       "      <th></th>\n",
       "      <th>발생일</th>\n",
       "      <th>발생시간</th>\n",
       "      <th>발생지_시도</th>\n",
       "      <th>발생지_시군구</th>\n",
       "      <th>요일</th>\n",
       "      <th>사고내용</th>\n",
       "      <th>사고유형_대분류</th>\n",
       "      <th>사고유형_중분류</th>\n",
       "      <th>가해자법규위반</th>\n",
       "      <th>가해자성별</th>\n",
       "      <th>...</th>\n",
       "      <th>피해차량용도</th>\n",
       "      <th>기상상태</th>\n",
       "      <th>노면상태</th>\n",
       "      <th>사망자수</th>\n",
       "      <th>중상자수</th>\n",
       "      <th>경상자수</th>\n",
       "      <th>부상신고자수</th>\n",
       "      <th>응급실 개수</th>\n",
       "      <th>시군구별_인구</th>\n",
       "      <th>Risk</th>\n",
       "    </tr>\n",
       "  </thead>\n",
       "  <tbody>\n",
       "    <tr>\n",
       "      <th>0</th>\n",
       "      <td>20170101</td>\n",
       "      <td>00시</td>\n",
       "      <td>경북</td>\n",
       "      <td>구미시</td>\n",
       "      <td>일</td>\n",
       "      <td>중상</td>\n",
       "      <td>차대차</td>\n",
       "      <td>추돌</td>\n",
       "      <td>안전운전 의무 불이행</td>\n",
       "      <td>남</td>\n",
       "      <td>...</td>\n",
       "      <td>승용차</td>\n",
       "      <td>맑음</td>\n",
       "      <td>건조</td>\n",
       "      <td>0</td>\n",
       "      <td>8</td>\n",
       "      <td>0</td>\n",
       "      <td>1</td>\n",
       "      <td>3</td>\n",
       "      <td>421012.0</td>\n",
       "      <td>25</td>\n",
       "    </tr>\n",
       "    <tr>\n",
       "      <th>1</th>\n",
       "      <td>20170101</td>\n",
       "      <td>02시</td>\n",
       "      <td>충남</td>\n",
       "      <td>홍성군</td>\n",
       "      <td>일</td>\n",
       "      <td>사망</td>\n",
       "      <td>차대차</td>\n",
       "      <td>추돌</td>\n",
       "      <td>안전운전 의무 불이행</td>\n",
       "      <td>남</td>\n",
       "      <td>...</td>\n",
       "      <td>승용차</td>\n",
       "      <td>맑음</td>\n",
       "      <td>건조</td>\n",
       "      <td>1</td>\n",
       "      <td>0</td>\n",
       "      <td>1</td>\n",
       "      <td>0</td>\n",
       "      <td>1</td>\n",
       "      <td>101025.0</td>\n",
       "      <td>13</td>\n",
       "    </tr>\n",
       "    <tr>\n",
       "      <th>2</th>\n",
       "      <td>20170101</td>\n",
       "      <td>03시</td>\n",
       "      <td>경북</td>\n",
       "      <td>상주시</td>\n",
       "      <td>일</td>\n",
       "      <td>경상</td>\n",
       "      <td>차대차</td>\n",
       "      <td>기타</td>\n",
       "      <td>안전운전 의무 불이행</td>\n",
       "      <td>남</td>\n",
       "      <td>...</td>\n",
       "      <td>렌터카</td>\n",
       "      <td>맑음</td>\n",
       "      <td>건조</td>\n",
       "      <td>0</td>\n",
       "      <td>0</td>\n",
       "      <td>2</td>\n",
       "      <td>0</td>\n",
       "      <td>2</td>\n",
       "      <td>100644.0</td>\n",
       "      <td>2</td>\n",
       "    </tr>\n",
       "    <tr>\n",
       "      <th>3</th>\n",
       "      <td>20170101</td>\n",
       "      <td>04시</td>\n",
       "      <td>서울</td>\n",
       "      <td>금천구</td>\n",
       "      <td>일</td>\n",
       "      <td>부상신고</td>\n",
       "      <td>차대차</td>\n",
       "      <td>측면충돌</td>\n",
       "      <td>기타</td>\n",
       "      <td>기타불명</td>\n",
       "      <td>...</td>\n",
       "      <td>렌터카</td>\n",
       "      <td>맑음</td>\n",
       "      <td>젖음/습기</td>\n",
       "      <td>0</td>\n",
       "      <td>0</td>\n",
       "      <td>0</td>\n",
       "      <td>1</td>\n",
       "      <td>1</td>\n",
       "      <td>233960.0</td>\n",
       "      <td>1</td>\n",
       "    </tr>\n",
       "    <tr>\n",
       "      <th>4</th>\n",
       "      <td>20170101</td>\n",
       "      <td>07시</td>\n",
       "      <td>강원</td>\n",
       "      <td>강릉시</td>\n",
       "      <td>일</td>\n",
       "      <td>경상</td>\n",
       "      <td>차대차</td>\n",
       "      <td>추돌</td>\n",
       "      <td>안전운전 의무 불이행</td>\n",
       "      <td>여</td>\n",
       "      <td>...</td>\n",
       "      <td>승용차</td>\n",
       "      <td>맑음</td>\n",
       "      <td>건조</td>\n",
       "      <td>0</td>\n",
       "      <td>0</td>\n",
       "      <td>4</td>\n",
       "      <td>0</td>\n",
       "      <td>4</td>\n",
       "      <td>213450.0</td>\n",
       "      <td>4</td>\n",
       "    </tr>\n",
       "  </tbody>\n",
       "</table>\n",
       "<p>5 rows × 32 columns</p>\n",
       "</div>"
      ],
      "text/plain": [
       "        발생일 발생시간 발생지_시도 발생지_시군구 요일  사고내용 사고유형_대분류 사고유형_중분류      가해자법규위반 가해자성별  \\\n",
       "0  20170101  00시     경북     구미시  일    중상      차대차       추돌  안전운전 의무 불이행     남   \n",
       "1  20170101  02시     충남     홍성군  일    사망      차대차       추돌  안전운전 의무 불이행     남   \n",
       "2  20170101  03시     경북     상주시  일    경상      차대차       기타  안전운전 의무 불이행     남   \n",
       "3  20170101  04시     서울     금천구  일  부상신고      차대차     측면충돌           기타  기타불명   \n",
       "4  20170101  07시     강원     강릉시  일    경상      차대차       추돌  안전운전 의무 불이행     여   \n",
       "\n",
       "   ... 피해차량용도 기상상태   노면상태 사망자수 중상자수 경상자수 부상신고자수 응급실 개수   시군구별_인구 Risk  \n",
       "0  ...    승용차   맑음     건조    0    8    0      1      3  421012.0   25  \n",
       "1  ...    승용차   맑음     건조    1    0    1      0      1  101025.0   13  \n",
       "2  ...    렌터카   맑음     건조    0    0    2      0      2  100644.0    2  \n",
       "3  ...    렌터카   맑음  젖음/습기    0    0    0      1      1  233960.0    1  \n",
       "4  ...    승용차   맑음     건조    0    0    4      0      4  213450.0    4  \n",
       "\n",
       "[5 rows x 32 columns]"
      ]
     },
     "execution_count": 7,
     "metadata": {},
     "output_type": "execute_result"
    }
   ],
   "source": [
    "df['Risk'] = (df['사망자수'] * 12) + (df['중상자수'] * 3) + (df['경상자수'] * 1) + (df['부상신고자수'] * 1) \n",
    "df.head()"
   ]
  },
  {
   "cell_type": "code",
   "execution_count": 8,
   "id": "a1e8c1fc",
   "metadata": {},
   "outputs": [],
   "source": [
    "df.to_csv('total_data.csv')"
   ]
  },
  {
   "cell_type": "code",
   "execution_count": 9,
   "id": "3560d187",
   "metadata": {},
   "outputs": [],
   "source": [
    "# a1 = df[['Risk', '발생지_시군구']]\n",
    "# a2 = a1.groupby('발생지_시군구').sum()\n",
    "# {n : i[0] for n, i in zip(a2.index, a2.values)}"
   ]
  },
  {
   "cell_type": "markdown",
   "id": "74f34cfa",
   "metadata": {},
   "source": [
    "#### 발생일"
   ]
  },
  {
   "cell_type": "code",
   "execution_count": 10,
   "id": "5e6b0a77",
   "metadata": {},
   "outputs": [
    {
     "name": "stderr",
     "output_type": "stream",
     "text": [
      "findfont: Font family ['Helvetica'] not found. Falling back to DejaVu Sans.\n"
     ]
    },
    {
     "data": {
      "image/png": "[encoded data removed]",
      "text/plain": [
       "<Figure size 900x122.4 with 2 Axes>"
      ]
     },
     "metadata": {
      "needs_background": "light"
     },
     "output_type": "display_data"
    }
   ],
   "source": [
    "data_2017 = pd.DataFrame()\n",
    "df1 = df.copy()\n",
    "df2 = df1[['발생일', 'Risk']]\n",
    "df_2017_time = list(set([i for j, i in enumerate(df2['발생일']) if '2017' in str(i)]))\n",
    "df2['발생일'] = df2['발생일'].astype('str')\n",
    "df2['발생일'] = pd.to_datetime(df2['발생일'])\n",
    "df2.index = df2['발생일']\n",
    "df3 = df2[:4146].drop(['발생일'], axis = 1)\n",
    "df4 = df3.groupby([df3.index.month, df3.index.day] ).sum()\n",
    "data_2017['Date'] = df_2017_time\n",
    "data_2017['Risk'] = df4['Risk'].values\n",
    "data_2017['Date'] = data_2017['Date'].astype('str')\n",
    "data_2017.index = pd.to_datetime(data_2017['Date'])\n",
    "calplot.calplot(data_2017['Risk'], cmap='Spectral', colorbar=True)\n",
    "plt.show()"
   ]
  },
  {
   "cell_type": "code",
   "execution_count": 11,
   "id": "01e11cf1",
   "metadata": {},
   "outputs": [
    {
     "data": {
      "image/png": "[encoded data removed]",
      "text/plain": [
       "<Figure size 900x122.4 with 2 Axes>"
      ]
     },
     "metadata": {
      "needs_background": "light"
     },
     "output_type": "display_data"
    }
   ],
   "source": [
    "data_2018 = pd.DataFrame()\n",
    "df1 = df.copy()\n",
    "df2 = df1[['발생일', 'Risk']]\n",
    "df_2018_time = list(set([i for j, i in enumerate(df2['발생일']) if '2018' in str(i)]))\n",
    "df2['발생일'] = df2['발생일'].astype('str')\n",
    "df2['발생일'] = pd.to_datetime(df2['발생일'])\n",
    "df2.index = df2['발생일']\n",
    "df3 = df2[416:8225].drop(['발생일'], axis = 1)\n",
    "df4 = df3.groupby([df3.index.month, df3.index.day] ).sum()\n",
    "data_2018['Date'] = df_2018_time\n",
    "data_2018['Risk'] = df4['Risk'].values\n",
    "data_2018['Date'] = data_2018['Date'].astype('str')\n",
    "data_2018.index = pd.to_datetime(data_2018['Date'])\n",
    "calplot.calplot(data_2018['Risk'], cmap='YlGnBu', colorbar=True)\n",
    "plt.show()"
   ]
  },
  {
   "cell_type": "code",
   "execution_count": 12,
   "id": "eff290a6",
   "metadata": {},
   "outputs": [
    {
     "data": {
      "image/png": "[encoded data removed]",
      "text/plain": [
       "<Figure size 900x122.4 with 2 Axes>"
      ]
     },
     "metadata": {
      "needs_background": "light"
     },
     "output_type": "display_data"
    }
   ],
   "source": [
    "data_2019 = pd.DataFrame()\n",
    "df1 = df.copy()\n",
    "df2 = df1[['발생일', 'Risk']]\n",
    "df_2019_time = list(set([i for j, i in enumerate(df2['발생일']) if '2019' in str(i)]))\n",
    "df2['발생일'] = df2['발생일'].astype('str')\n",
    "df2['발생일'] = pd.to_datetime(df2['발생일'])\n",
    "df2.index = df2['발생일']\n",
    "df3 = df2[8225:].drop(['발생일'], axis = 1)\n",
    "df4 = df3.groupby([df3.index.month, df3.index.day] ).sum()\n",
    "data_2019['Date'] = df_2019_time\n",
    "data_2019['Risk'] = df4['Risk'].values\n",
    "data_2019['Date'] = data_2019['Date'].astype('str')\n",
    "data_2019.index = pd.to_datetime(data_2019['Date'])\n",
    "calplot.calplot(data_2019['Risk'], cmap='flag', colorbar=True)\n",
    "plt.show()"
   ]
  },
  {
   "cell_type": "markdown",
   "id": "20e72854",
   "metadata": {},
   "source": [
    "#### 발생시간"
   ]
  },
  {
   "cell_type": "markdown",
   "id": "1c706c64",
   "metadata": {},
   "source": [
    "- 시간대별 사고 건수"
   ]
  },
  {
   "cell_type": "code",
   "execution_count": 13,
   "id": "b67299d4",
   "metadata": {},
   "outputs": [
    {
     "data": {
      "image/png": "[encoded data removed]",
      "text/plain": [
       "<Figure size 576x360 with 1 Axes>"
      ]
     },
     "metadata": {
      "needs_background": "light"
     },
     "output_type": "display_data"
    }
   ],
   "source": [
    "df_time = df[['발생시간','Risk']]\n",
    "df_time_s = df_time.sort_values(by='발생시간')\n",
    "\n",
    "plt.figure(figsize = (8, 5))\n",
    "sb.countplot(data = df_time_s, x = '발생시간', color = 'blue', alpha=.5)\n",
    "plt.xticks(rotation = 45)\n",
    "plt.title('시간대별 사고 건수')\n",
    "plt.xlabel('발생시간별')\n",
    "plt.ylabel('사고 건수')\n",
    "plt.show()"
   ]
  },
  {
   "cell_type": "markdown",
   "id": "0bd3340a",
   "metadata": {},
   "source": [
    "- 시간대별 Risk"
   ]
  },
  {
   "cell_type": "code",
   "execution_count": 14,
   "id": "4f855269",
   "metadata": {},
   "outputs": [
    {
     "data": {
      "image/png": "[encoded data removed]",
      "text/plain": [
       "<Figure size 432x288 with 1 Axes>"
      ]
     },
     "metadata": {
      "needs_background": "light"
     },
     "output_type": "display_data"
    }
   ],
   "source": [
    "df_time_group = df_time_s.groupby('발생시간')\n",
    "df_time_group = pd.DataFrame(df_time_group.mean()['Risk'])\n",
    "df_time_group.plot(kind='bar', color='salmon', alpha=0.5)\n",
    "plt.title('시간대별 Risk')\n",
    "plt.xlabel('발생시간별')\n",
    "plt.ylabel('Risk')\n",
    "plt.show()"
   ]
  },
  {
   "cell_type": "code",
   "execution_count": 15,
   "id": "7d1a1aa6",
   "metadata": {},
   "outputs": [
    {
     "data": {
      "image/png": "[encoded data removed]",
      "text/plain": [
       "<Figure size 576x360 with 1 Axes>"
      ]
     },
     "metadata": {},
     "output_type": "display_data"
    }
   ],
   "source": [
    "a = df_time_group.loc['01시':'04시'].mean()\n",
    "b = df_time_group.loc['05시':'08시'].mean()\n",
    "c = df_time_group.loc['09시':'12시'].mean()\n",
    "d = df_time_group.loc['13시':'16시'].mean()\n",
    "e = df_time_group.loc['17시':'20시'].mean()\n",
    "f = df_time_group.loc[['21시', '22시', '23시', '00시']].mean()\n",
    "date = pd.DataFrame()\n",
    "date['01-05'] = a\n",
    "date['05-09'] = b\n",
    "date['09-13'] = c\n",
    "date['13-17'] = d\n",
    "date['17-21'] = e\n",
    "date['21-01'] = f\n",
    "\n",
    "col = ['lightcoral','lemonchiffon', 'honeydew', 'aliceblue', 'plum', 'grey']\n",
    "labels = ['01-05', '05-09', '09-13','13-17','17-21', '21-01' ]\n",
    "explode =  0.25, 0, 0, 0, 0, 0\n",
    "plt.figure(figsize=(8, 5))\n",
    "plt.pie(date.T['Risk'].values, labels=labels, autopct='%.2f%%', shadow=True, explode=explode, colors=col)\n",
    "plt.show()"
   ]
  },
  {
   "cell_type": "code",
   "execution_count": 16,
   "id": "bcfd0b4d",
   "metadata": {},
   "outputs": [],
   "source": [
    "df['발생시간'] = [i.split('시')[0] for i in df['발생시간']]\n",
    "df['발생시간'] = df['발생시간'].astype('int64')"
   ]
  },
  {
   "cell_type": "markdown",
   "id": "36b510c8",
   "metadata": {},
   "source": [
    "#### 문자열 Encoding\n",
    "- 문자열로 이루어진 데이터에 대한 인코딩 작업.\n",
    "    - **Label encoding**\n",
    "    - OneHot encoding\n",
    "    - pd.get_dummies\n",
    "    - replace\n",
    "    - make_column_transformer"
   ]
  },
  {
   "cell_type": "markdown",
   "id": "84522780",
   "metadata": {},
   "source": [
    "#### 발생지_시도 encoding\n",
    "- 강원, 경기, 경남, 경북, 광주, 대구, 대전, 부산, 서울, 세종, 울산, 인천, 전남, 전북, 충남, 충북\n",
    "- 2017년 ~ 2019년 경기 인근 고속국도에서의 사고 건수가 압도적으로 많음."
   ]
  },
  {
   "cell_type": "code",
   "execution_count": 17,
   "id": "46c79ac3",
   "metadata": {},
   "outputs": [
    {
     "data": {
      "text/plain": [
       "array([ 3, 14,  3, ...,  1,  1,  1])"
      ]
     },
     "execution_count": 17,
     "metadata": {},
     "output_type": "execute_result"
    }
   ],
   "source": [
    "lbl1 = LabelEncoder()\n",
    "Data_Label1 = lbl1.fit_transform( df['발생지_시도'] )\n",
    "Data_Label1"
   ]
  },
  {
   "cell_type": "code",
   "execution_count": 18,
   "id": "1d66b257",
   "metadata": {},
   "outputs": [
    {
     "data": {
      "text/plain": [
       "{0: '강원',\n",
       " 1: '경기',\n",
       " 2: '경남',\n",
       " 3: '경북',\n",
       " 4: '광주',\n",
       " 5: '대구',\n",
       " 6: '대전',\n",
       " 7: '부산',\n",
       " 8: '서울',\n",
       " 9: '세종',\n",
       " 10: '울산',\n",
       " 11: '인천',\n",
       " 12: '전남',\n",
       " 13: '전북',\n",
       " 14: '충남',\n",
       " 15: '충북'}"
      ]
     },
     "execution_count": 18,
     "metadata": {},
     "output_type": "execute_result"
    }
   ],
   "source": [
    "df_발생지_시도_dic = { idx : local for idx, local in enumerate(list(lbl1.classes_)) }\n",
    "df_발생지_시도_dic"
   ]
  },
  {
   "cell_type": "markdown",
   "id": "b4501a7e",
   "metadata": {},
   "source": [
    "- 권역별 사고 건수 빈도"
   ]
  },
  {
   "cell_type": "code",
   "execution_count": 19,
   "id": "2340961c",
   "metadata": {},
   "outputs": [
    {
     "data": {
      "image/png": "[encoded data removed]",
      "text/plain": [
       "<Figure size 576x360 with 1 Axes>"
      ]
     },
     "metadata": {
      "needs_background": "light"
     },
     "output_type": "display_data"
    }
   ],
   "source": [
    "local_list = [ df_발생지_시도_dic.get(i) for i in Data_Label1 ]\n",
    "local_df = pd.DataFrame(local_list).value_counts()\n",
    "b1 = [i[0] for i in local_df.index]\n",
    "b2 = local_df.values\n",
    "acc = pd.DataFrame()\n",
    "acc['권역'] = b1\n",
    "acc['사고건수'] = b2\n",
    "acc1 = acc.sort_values(by='권역')\n",
    "plt.figure(figsize=(8, 5))\n",
    "sb.barplot(acc1['권역'].values, acc1['사고건수'].values, palette='rainbow', alpha=.5)\n",
    "plt.show()"
   ]
  },
  {
   "cell_type": "markdown",
   "id": "c7a5db96",
   "metadata": {},
   "source": [
    "- 권역별 사고 리스크 Level"
   ]
  },
  {
   "cell_type": "code",
   "execution_count": 20,
   "id": "d6d02ab0",
   "metadata": {},
   "outputs": [
    {
     "data": {
      "image/png": "[encoded data removed]",
      "text/plain": [
       "<Figure size 576x360 with 1 Axes>"
      ]
     },
     "metadata": {
      "needs_background": "light"
     },
     "output_type": "display_data"
    }
   ],
   "source": [
    "df_발생지_시도_risk = df[['발생지_시도', 'Risk']].groupby('발생지_시도').mean()\n",
    "a1 = list(df_발생지_시도_risk.index)\n",
    "a2 = [i[0] for i in df_발생지_시도_risk.values]\n",
    "risk = pd.DataFrame()\n",
    "risk['권역'] = a1\n",
    "risk['Risk_mean'] = a2\n",
    "plt.figure(figsize=(8, 5))\n",
    "sb.barplot(risk['권역'].values, risk['Risk_mean'].values, palette='rainbow', alpha=.5)\n",
    "plt.show()"
   ]
  },
  {
   "cell_type": "code",
   "execution_count": 21,
   "id": "6c921910",
   "metadata": {},
   "outputs": [],
   "source": [
    "df['발생지_시도'] = Data_Label1"
   ]
  },
  {
   "cell_type": "markdown",
   "id": "02be15f6",
   "metadata": {},
   "source": [
    "#### 발생지_시군구 encoding\n",
    "- 총 148개의 지역에서 사고가 발생.\n",
    "- 서울 용인시, 경기 성남시, 경기 화성시 , 경기 평택시, 경남 김해시 순으로 사고 발생이 많았음."
   ]
  },
  {
   "cell_type": "code",
   "execution_count": 22,
   "id": "48baac0f",
   "metadata": {},
   "outputs": [
    {
     "data": {
      "text/plain": [
       "array([ 25, 155,  70, ..., 148, 157, 157])"
      ]
     },
     "execution_count": 22,
     "metadata": {},
     "output_type": "execute_result"
    }
   ],
   "source": [
    "lbl2 = LabelEncoder()\n",
    "Data_Label2 = lbl2.fit_transform( df['발생지_시군구'] )\n",
    "Data_Label2"
   ]
  },
  {
   "cell_type": "code",
   "execution_count": 23,
   "id": "7b72db8f",
   "metadata": {},
   "outputs": [
    {
     "data": {
      "text/plain": [
       "{0: '가평군',\n",
       " 1: '강남구',\n",
       " 2: '강동구',\n",
       " 3: '강릉시',\n",
       " 4: '강서구',\n",
       " 5: '강진군',\n",
       " 6: '거창군',\n",
       " 7: '경산시',\n",
       " 8: '경주시',\n",
       " 9: '계룡시',\n",
       " 10: '계양구',\n",
       " 11: '고령군',\n",
       " 12: '고성군',\n",
       " 13: '고양시',\n",
       " 14: '고창군',\n",
       " 15: '곡성군',\n",
       " 16: '공주시',\n",
       " 17: '과천시',\n",
       " 18: '광명시',\n",
       " 19: '광산구',\n",
       " 20: '광양시',\n",
       " 21: '광주시',\n",
       " 22: '괴산군',\n",
       " 23: '구례군',\n",
       " 24: '구리시',\n",
       " 25: '구미시',\n",
       " 26: '군산시',\n",
       " 27: '군위군',\n",
       " 28: '군포시',\n",
       " 29: '금산군',\n",
       " 30: '금정구',\n",
       " 31: '금천구',\n",
       " 32: '기장군',\n",
       " 33: '김제시',\n",
       " 34: '김천시',\n",
       " 35: '김포시',\n",
       " 36: '김해시',\n",
       " 37: '나주시',\n",
       " 38: '남동구',\n",
       " 39: '남양주시',\n",
       " 40: '남원시',\n",
       " 41: '노원구',\n",
       " 42: '논산시',\n",
       " 43: '단양군',\n",
       " 44: '달서구',\n",
       " 45: '달성군',\n",
       " 46: '담양군',\n",
       " 47: '당진시',\n",
       " 48: '대덕구',\n",
       " 49: '동구',\n",
       " 50: '동해시',\n",
       " 51: '목포시',\n",
       " 52: '무안군',\n",
       " 53: '무주군',\n",
       " 54: '문경시',\n",
       " 55: '미추홀구',\n",
       " 56: '밀양시',\n",
       " 57: '보령시',\n",
       " 58: '보성군',\n",
       " 59: '보은군',\n",
       " 60: '부안군',\n",
       " 61: '부여군',\n",
       " 62: '부천시',\n",
       " 63: '부평구',\n",
       " 64: '북구',\n",
       " 65: '사상구',\n",
       " 66: '사천시',\n",
       " 67: '사하구',\n",
       " 68: '산청군',\n",
       " 69: '삼척시',\n",
       " 70: '상주시',\n",
       " 71: '서구',\n",
       " 72: '서산시',\n",
       " 73: '서천군',\n",
       " 74: '서초구',\n",
       " 75: '성남시',\n",
       " 76: '성북구',\n",
       " 77: '성주군',\n",
       " 78: '세종시',\n",
       " 79: '속초시',\n",
       " 80: '송파구',\n",
       " 81: '수성구',\n",
       " 82: '수원시',\n",
       " 83: '순창군',\n",
       " 84: '순천시',\n",
       " 85: '시흥시',\n",
       " 86: '안동시',\n",
       " 87: '안산시',\n",
       " 88: '안성시',\n",
       " 89: '안양시',\n",
       " 90: '양산시',\n",
       " 91: '양양군',\n",
       " 92: '양주시',\n",
       " 93: '양천구',\n",
       " 94: '양평군',\n",
       " 95: '여주시',\n",
       " 96: '연수구',\n",
       " 97: '영광군',\n",
       " 98: '영덕군',\n",
       " 99: '영동군',\n",
       " 100: '영암군',\n",
       " 101: '영주시',\n",
       " 102: '영천시',\n",
       " 103: '예산군',\n",
       " 104: '예천군',\n",
       " 105: '오산시',\n",
       " 106: '옥천군',\n",
       " 107: '완주군',\n",
       " 108: '용인시',\n",
       " 109: '울주군',\n",
       " 110: '원주시',\n",
       " 111: '유성구',\n",
       " 112: '음성군',\n",
       " 113: '의성군',\n",
       " 114: '의왕시',\n",
       " 115: '의정부시',\n",
       " 116: '이천시',\n",
       " 117: '익산시',\n",
       " 118: '인제군',\n",
       " 119: '임실군',\n",
       " 120: '장성군',\n",
       " 121: '장수군',\n",
       " 122: '장흥군',\n",
       " 123: '전주시',\n",
       " 124: '정읍시',\n",
       " 125: '제천시',\n",
       " 126: '중구',\n",
       " 127: '중랑구',\n",
       " 128: '증평군',\n",
       " 129: '진안군',\n",
       " 130: '진주시',\n",
       " 131: '진천군',\n",
       " 132: '창녕군',\n",
       " 133: '창원시',\n",
       " 134: '천안시',\n",
       " 135: '청도군',\n",
       " 136: '청송군',\n",
       " 137: '청양군',\n",
       " 138: '청주시',\n",
       " 139: '춘천시',\n",
       " 140: '충주시',\n",
       " 141: '칠곡군',\n",
       " 142: '통영시',\n",
       " 143: '파주시',\n",
       " 144: '평창군',\n",
       " 145: '평택시',\n",
       " 146: '포천시',\n",
       " 147: '포항시',\n",
       " 148: '하남시',\n",
       " 149: '하동군',\n",
       " 150: '함안군',\n",
       " 151: '함양군',\n",
       " 152: '함평군',\n",
       " 153: '합천군',\n",
       " 154: '해운대구',\n",
       " 155: '홍성군',\n",
       " 156: '홍천군',\n",
       " 157: '화성시',\n",
       " 158: '화천군',\n",
       " 159: '횡성군'}"
      ]
     },
     "execution_count": 23,
     "metadata": {},
     "output_type": "execute_result"
    }
   ],
   "source": [
    "df_발생지_시군구_dic = { idx : local for idx, local in enumerate(list(lbl2.classes_)) }\n",
    "df_발생지_시군구_dic"
   ]
  },
  {
   "cell_type": "code",
   "execution_count": 24,
   "id": "e4f9cf62",
   "metadata": {
    "scrolled": true
   },
   "outputs": [
    {
     "data": {
      "text/plain": [
       "용인시    844\n",
       "성남시    570\n",
       "화성시    490\n",
       "천안시    349\n",
       "평택시    333\n",
       "김해시    333\n",
       "시흥시    331\n",
       "하남시    299\n",
       "청주시    284\n",
       "안성시    268\n",
       "dtype: int64"
      ]
     },
     "execution_count": 24,
     "metadata": {},
     "output_type": "execute_result"
    }
   ],
   "source": [
    "local_list2 = [ df_발생지_시군구_dic.get(i) for i in Data_Label2 ]\n",
    "local_df2 = pd.DataFrame(local_list2).value_counts()\n",
    "local_df2[:10]"
   ]
  },
  {
   "cell_type": "markdown",
   "id": "5dcbd7d2",
   "metadata": {},
   "source": [
    "- 사고 건수가 가장 많이 발생하는 지역 TOP 10"
   ]
  },
  {
   "cell_type": "code",
   "execution_count": 25,
   "id": "bd63269f",
   "metadata": {
    "scrolled": true
   },
   "outputs": [
    {
     "data": {
      "image/png": "[encoded data removed]",
      "text/plain": [
       "<Figure size 576x360 with 1 Axes>"
      ]
     },
     "metadata": {
      "needs_background": "light"
     },
     "output_type": "display_data"
    }
   ],
   "source": [
    "plt.figure(figsize = (8, 5))\n",
    "sb.barplot([i[0] for i in list(local_df2[:10].index)], local_df2[:10].values, palette='rainbow', alpha=.5)\n",
    "plt.xlabel('시군구')\n",
    "plt.ylabel('사고 건수')\n",
    "plt.show()"
   ]
  },
  {
   "cell_type": "markdown",
   "id": "c8ef55e6",
   "metadata": {},
   "source": [
    "- 사고 리스크가 가장 큰 지역 TOP10"
   ]
  },
  {
   "cell_type": "code",
   "execution_count": 26,
   "id": "23273574",
   "metadata": {},
   "outputs": [
    {
     "data": {
      "image/png": "[encoded data removed]",
      "text/plain": [
       "<Figure size 576x360 with 1 Axes>"
      ]
     },
     "metadata": {
      "needs_background": "light"
     },
     "output_type": "display_data"
    }
   ],
   "source": [
    "df1 = df[['발생지_시군구', 'Risk']]\n",
    "df1['발생지_시군구'] = ['창원시' if '통합' in i else i  for i in df1['발생지_시군구']]\n",
    "df2 = df1.groupby('발생지_시군구').mean()\n",
    "df3 = df2.sort_values(by='Risk', ascending=False)[:10]\n",
    "\n",
    "top10 = []\n",
    "for i in list(df3.index) :\n",
    "    top10.append(i)\n",
    "    \n",
    "plt.figure(figsize = (8, 5))\n",
    "sb.barplot(top10, [i[0] for i in df3.values], palette='rainbow', alpha=.5)\n",
    "plt.xlabel('시군구')\n",
    "plt.ylabel('Risk_mean')\n",
    "plt.show()"
   ]
  },
  {
   "cell_type": "code",
   "execution_count": 27,
   "id": "096677b4",
   "metadata": {},
   "outputs": [],
   "source": [
    "df['발생지_시군구'] = Data_Label2"
   ]
  },
  {
   "cell_type": "markdown",
   "id": "86f27a92",
   "metadata": {},
   "source": [
    "#### 요일 encoding\n",
    "- 월, 화, 수, 목, 금 , 토, 일\n",
    "- 평일(월 ~ 금), 주말(토 ~ 일)\n",
    "- 토요일, 금요일의 사고 빈도수가 가장 높음.\n",
    "- 의외로 일요일 사고건수가 가장 낮게 나옴."
   ]
  },
  {
   "cell_type": "code",
   "execution_count": 28,
   "id": "239c890d",
   "metadata": {},
   "outputs": [
    {
     "data": {
      "text/plain": [
       "array([4, 4, 4, ..., 6, 6, 6])"
      ]
     },
     "execution_count": 28,
     "metadata": {},
     "output_type": "execute_result"
    }
   ],
   "source": [
    "lbl3 = LabelEncoder()\n",
    "Data_Label3 = lbl3.fit_transform( df['요일'] )\n",
    "Data_Label3"
   ]
  },
  {
   "cell_type": "code",
   "execution_count": 29,
   "id": "17d8e7a4",
   "metadata": {
    "scrolled": false
   },
   "outputs": [
    {
     "data": {
      "text/plain": [
       "{0: '금', 1: '목', 2: '수', 3: '월', 4: '일', 5: '토', 6: '화'}"
      ]
     },
     "execution_count": 29,
     "metadata": {},
     "output_type": "execute_result"
    }
   ],
   "source": [
    "df_요일_dic = { idx : day for idx, day in enumerate(list(lbl3.classes_)) }\n",
    "df_요일_dic"
   ]
  },
  {
   "cell_type": "code",
   "execution_count": 30,
   "id": "2fbef154",
   "metadata": {},
   "outputs": [],
   "source": [
    "b1 = [i[0] for i in local_df.index]\n",
    "b2 = local_df.values\n",
    "acc = pd.DataFrame()\n",
    "acc['권역'] = b1\n",
    "acc['사고건수'] = b2\n",
    "acc1 = acc.sort_values(by='권역')"
   ]
  },
  {
   "cell_type": "code",
   "execution_count": 31,
   "id": "b9167656",
   "metadata": {},
   "outputs": [
    {
     "data": {
      "image/png": "[encoded data removed]",
      "text/plain": [
       "<Figure size 432x288 with 1 Axes>"
      ]
     },
     "metadata": {
      "needs_background": "light"
     },
     "output_type": "display_data"
    }
   ],
   "source": [
    "local_list3 = [ df_요일_dic.get(i) for i in Data_Label3 ]\n",
    "local_df3 = pd.DataFrame(local_list3).value_counts()\n",
    "\n",
    "day = pd.DataFrame()\n",
    "day['요일'] = [i[0] for i in local_df3.index]\n",
    "day['사고건수'] = local_df3.values\n",
    "\n",
    "# df[['요일', 'Risk']].groupby('요일').mean()\n",
    "day['Risk_mean'] = [7.862475 * 80, 7.677824 * 80, 6.795964 * 80, 6.949886 * 80, 6.845606 * 80, 7.326139 * 80, 7.881266 * 80] \n",
    "day.index = day['요일']\n",
    "\n",
    "# plt.figure(figsize=(8, 5))\n",
    "# sb.barplot([i[0] for i in list(local_df3.index)], local_df3.values, palette='rainbow', alpha=.5)\n",
    "# plt.xlabel('요일')\n",
    "# plt.ylabel('사고 건수')\n",
    "# plt.show()\n",
    "\n",
    "day.plot(kind='bar', y=['사고건수','Risk_mean'], color=['coral', 'lightsteelblue'], alpha=0.7, rot=0)\n",
    "plt.show()"
   ]
  },
  {
   "cell_type": "code",
   "execution_count": 32,
   "id": "1a5a2f10",
   "metadata": {},
   "outputs": [],
   "source": [
    "df['요일'] = Data_Label3"
   ]
  },
  {
   "cell_type": "markdown",
   "id": "72403998",
   "metadata": {},
   "source": [
    "#### 사고내용 encoding\n",
    "- 사망\n",
    "- 중상"
   ]
  },
  {
   "cell_type": "code",
   "execution_count": 33,
   "id": "ee951c7a",
   "metadata": {},
   "outputs": [
    {
     "data": {
      "text/plain": [
       "array([3, 2, 0, ..., 0, 0, 0])"
      ]
     },
     "execution_count": 33,
     "metadata": {},
     "output_type": "execute_result"
    }
   ],
   "source": [
    "lbl4 = LabelEncoder()\n",
    "Data_Label4 = lbl4.fit_transform( df['사고내용'] )\n",
    "Data_Label4"
   ]
  },
  {
   "cell_type": "code",
   "execution_count": 34,
   "id": "c02d4e06",
   "metadata": {},
   "outputs": [
    {
     "data": {
      "text/plain": [
       "{0: '경상', 1: '부상신고', 2: '사망', 3: '중상'}"
      ]
     },
     "execution_count": 34,
     "metadata": {},
     "output_type": "execute_result"
    }
   ],
   "source": [
    "df_사고내용_dic = { idx : acc for idx, acc in enumerate(list(lbl4.classes_)) }\n",
    "df_사고내용_dic"
   ]
  },
  {
   "cell_type": "code",
   "execution_count": 35,
   "id": "d9970ddf",
   "metadata": {},
   "outputs": [
    {
     "name": "stdout",
     "output_type": "stream",
     "text": [
      "Results : \n",
      " Total Data  : 8122\n",
      " Rate of death : 484 (5.96%)\n",
      "\n"
     ]
    }
   ],
   "source": [
    "local_list4 = [ df_사고내용_dic.get(i) for i in Data_Label4 ]\n",
    "local_df4 = pd.DataFrame(local_list4).value_counts()\n",
    "serious, death = local_df4.values[0], local_df4.values[-1]\n",
    "total = serious + death\n",
    "print(f'Results : \\n Total Data  : {total}\\n Rate of death : {death} ({(death/total*100):.2f}%)\\n')"
   ]
  },
  {
   "cell_type": "code",
   "execution_count": 36,
   "id": "8d3370df",
   "metadata": {},
   "outputs": [
    {
     "data": {
      "image/png": "[encoded data removed]",
      "text/plain": [
       "<Figure size 576x360 with 1 Axes>"
      ]
     },
     "metadata": {
      "needs_background": "light"
     },
     "output_type": "display_data"
    }
   ],
   "source": [
    "plt.figure(figsize=(8, 5))\n",
    "sb.barplot([i[0] for i in list(local_df4.index)], local_df4.values, palette='Set2', alpha=.5)\n",
    "plt.xlabel('사고 타입')\n",
    "plt.ylabel('사고 건수')\n",
    "plt.show()"
   ]
  },
  {
   "cell_type": "code",
   "execution_count": 37,
   "id": "46b91161",
   "metadata": {},
   "outputs": [],
   "source": [
    "df['사고내용'] = Data_Label4"
   ]
  },
  {
   "cell_type": "markdown",
   "id": "f3a725ac",
   "metadata": {},
   "source": [
    "#### 사고유형_대분류 encoding\n",
    "- 차대 사람\n",
    "- 차대차 \n",
    "- 차량 단도\n",
    "\n",
    "- 차대차 사람의 비율이 압도적으로 높음. 즉, 고속국도 위에서 차와 차 사이에서 발생하는 사고가 가장 많음."
   ]
  },
  {
   "cell_type": "code",
   "execution_count": 38,
   "id": "04837c69",
   "metadata": {},
   "outputs": [
    {
     "data": {
      "text/plain": [
       "array([1, 1, 1, ..., 1, 1, 1])"
      ]
     },
     "execution_count": 38,
     "metadata": {},
     "output_type": "execute_result"
    }
   ],
   "source": [
    "lbl5 = LabelEncoder()\n",
    "Data_Label5 = lbl5.fit_transform( df['사고유형_대분류'] )\n",
    "Data_Label5"
   ]
  },
  {
   "cell_type": "code",
   "execution_count": 39,
   "id": "ac10379c",
   "metadata": {},
   "outputs": [],
   "source": [
    "df['사고유형_대분류'] = Data_Label5"
   ]
  },
  {
   "cell_type": "code",
   "execution_count": 40,
   "id": "8a3b3e06",
   "metadata": {},
   "outputs": [
    {
     "data": {
      "text/plain": [
       "{0: '차대사람', 1: '차대차', 2: '차량단독'}"
      ]
     },
     "execution_count": 40,
     "metadata": {},
     "output_type": "execute_result"
    }
   ],
   "source": [
    "df_사고유형_대분류_dic = { idx : car for idx, car in enumerate(list(lbl5.classes_)) }\n",
    "df_사고유형_대분류_dic"
   ]
  },
  {
   "cell_type": "code",
   "execution_count": 41,
   "id": "40e415d2",
   "metadata": {},
   "outputs": [
    {
     "data": {
      "image/png": "[encoded data removed]",
      "text/plain": [
       "<Figure size 576x360 with 1 Axes>"
      ]
     },
     "metadata": {
      "needs_background": "light"
     },
     "output_type": "display_data"
    }
   ],
   "source": [
    "local_list5 = [ df_사고유형_대분류_dic.get(i) for i in Data_Label5 ]\n",
    "local_df5 = pd.DataFrame(local_list5).value_counts()\n",
    "plt.figure(figsize=(8, 5))\n",
    "sb.barplot([i[0] for i in list(local_df5.index)], local_df5.values, palette='rainbow', alpha=.5)\n",
    "plt.xlabel('사고 유형 대분류')\n",
    "plt.ylabel('사고 건수')\n",
    "plt.show()"
   ]
  },
  {
   "cell_type": "markdown",
   "id": "540402ae",
   "metadata": {},
   "source": [
    "#### 사고유형_중분류\n",
    "- 공작물충돌\n",
    "- 길 가장자리 구역 통행중\n",
    "- 도로 이탈\n",
    "- 보도 통행중\n",
    "- 전도 : 자동차의 측면이 도로에 접한 상태로 넘어진 사고.\n",
    "- 전복 : 운행중의 사고로 인해 자동차가 뒤집어진 사고.\n",
    "- 추돌 : 주행 중 앞차가 급정거를 하고, 뒤쫓아가던 차가 부딪히는 사고.\n",
    "- 전도전복\n",
    "- 정면충돌\n",
    "- 차도통행중\n",
    "- 횡단중\n",
    "- 측면충돌\n",
    "- 후진중 충돌\n",
    "- 기타 \n",
    "\n",
    "- **추돌 사고가 굉장히 많이 발생함. 기타 사고 비율도 두 번째로 높으나 기타가 정확히 어떤 사항인지는 알 수가 없음.**\n",
    "- **측면 충돌 사고의 비중 세번째로 높고, 나머지에 대한 사고는 거의 존재하지 않음.**"
   ]
  },
  {
   "cell_type": "code",
   "execution_count": 42,
   "id": "f8c1ca27",
   "metadata": {},
   "outputs": [
    {
     "data": {
      "text/plain": [
       "array([11, 11,  1, ...,  1,  1,  1])"
      ]
     },
     "execution_count": 42,
     "metadata": {},
     "output_type": "execute_result"
    }
   ],
   "source": [
    "lbl6 = LabelEncoder()\n",
    "Data_Label6 = lbl6.fit_transform( df['사고유형_중분류'] )\n",
    "Data_Label6"
   ]
  },
  {
   "cell_type": "code",
   "execution_count": 43,
   "id": "786eb5eb",
   "metadata": {},
   "outputs": [],
   "source": [
    "df['사고유형_중분류'] = Data_Label6"
   ]
  },
  {
   "cell_type": "code",
   "execution_count": 44,
   "id": "fd60bcd9",
   "metadata": {},
   "outputs": [
    {
     "data": {
      "text/plain": [
       "{0: '공작물충돌',\n",
       " 1: '기타',\n",
       " 2: '길가장자리구역통행중',\n",
       " 3: '도로이탈',\n",
       " 4: '보도통행중',\n",
       " 5: '전도',\n",
       " 6: '전도전복',\n",
       " 7: '전복',\n",
       " 8: '정면충돌',\n",
       " 9: '주/정차차량 충돌',\n",
       " 10: '차도통행중',\n",
       " 11: '추돌',\n",
       " 12: '측면충돌',\n",
       " 13: '횡단중',\n",
       " 14: '후진중충돌'}"
      ]
     },
     "execution_count": 44,
     "metadata": {},
     "output_type": "execute_result"
    }
   ],
   "source": [
    "df_사고유형_중분류_dic = { idx : car for idx, car in enumerate(list(lbl6.classes_)) }\n",
    "df_사고유형_중분류_dic"
   ]
  },
  {
   "cell_type": "code",
   "execution_count": 45,
   "id": "60d3ccd0",
   "metadata": {},
   "outputs": [
    {
     "data": {
      "image/png": "[encoded data removed]",
      "text/plain": [
       "<Figure size 576x360 with 1 Axes>"
      ]
     },
     "metadata": {
      "needs_background": "light"
     },
     "output_type": "display_data"
    }
   ],
   "source": [
    "local_list6 = [ df_사고유형_중분류_dic.get(i) for i in Data_Label6 ]\n",
    "local_df6 = pd.DataFrame(local_list6).value_counts()\n",
    "plt.figure(figsize=(8, 5))\n",
    "sb.barplot([i[0] for i in list(local_df6.index)], local_df6.values, palette='rainbow', alpha=.5)\n",
    "plt.xticks(rotation = 90)\n",
    "plt.xlabel('사고 유형 중분류')\n",
    "plt.ylabel('사고 건수')\n",
    "plt.show()"
   ]
  },
  {
   "cell_type": "markdown",
   "id": "fe78cd78",
   "metadata": {},
   "source": [
    "#### 가해자법규위반\n",
    "- 과속 \n",
    "- 신호 위반\n",
    "- 안전거리 미확보\n",
    "- 안전 운전 의무 불이행\n",
    "- 중앙선 침범\n",
    "\n",
    "- **안전 운전 의무 불이행의 비율이 가장 높고, 안전 거리 미확보의 비율도 상대적인 관점에서 적지 않음.**"
   ]
  },
  {
   "cell_type": "code",
   "execution_count": 46,
   "id": "2e04bae5",
   "metadata": {},
   "outputs": [
    {
     "data": {
      "text/plain": [
       "array([5, 5, 5, ..., 5, 4, 4])"
      ]
     },
     "execution_count": 46,
     "metadata": {},
     "output_type": "execute_result"
    }
   ],
   "source": [
    "lbl7 = LabelEncoder()\n",
    "Data_Label7 = lbl7.fit_transform( df['가해자법규위반'] )\n",
    "Data_Label7"
   ]
  },
  {
   "cell_type": "code",
   "execution_count": 47,
   "id": "884d24a3",
   "metadata": {},
   "outputs": [],
   "source": [
    "df['가해자법규위반'] = Data_Label7"
   ]
  },
  {
   "cell_type": "code",
   "execution_count": 48,
   "id": "1a9c40e6",
   "metadata": {},
   "outputs": [
    {
     "data": {
      "text/plain": [
       "{0: '과속',\n",
       " 1: '교차로 통행방법 위반',\n",
       " 2: '기타',\n",
       " 3: '신호위반',\n",
       " 4: '안전거리 미확보',\n",
       " 5: '안전운전 의무 불이행',\n",
       " 6: '중앙선 침범'}"
      ]
     },
     "execution_count": 48,
     "metadata": {},
     "output_type": "execute_result"
    }
   ],
   "source": [
    "df_가해자법규위반_dic = { idx : man for idx, man in enumerate(list(lbl7.classes_)) }\n",
    "df_가해자법규위반_dic"
   ]
  },
  {
   "cell_type": "code",
   "execution_count": 49,
   "id": "51ec8ff8",
   "metadata": {},
   "outputs": [
    {
     "data": {
      "image/png": "[encoded data removed]",
      "text/plain": [
       "<Figure size 576x360 with 1 Axes>"
      ]
     },
     "metadata": {
      "needs_background": "light"
     },
     "output_type": "display_data"
    }
   ],
   "source": [
    "local_list7 = [ df_가해자법규위반_dic.get(i) for i in Data_Label7 ]\n",
    "local_df7 = pd.DataFrame(local_list7).value_counts()\n",
    "plt.figure(figsize=(8, 5))\n",
    "sb.barplot([i[0] for i in list(local_df7.index)], local_df7.values, palette='rainbow', alpha=.5)\n",
    "plt.xticks(rotation = -45)\n",
    "plt.xlabel('가해자법규위반')\n",
    "plt.ylabel('사고 건수')\n",
    "plt.show()"
   ]
  },
  {
   "cell_type": "markdown",
   "id": "65663d56",
   "metadata": {},
   "source": [
    "#### 가해자 성별 & 피해자 성별\n",
    "- 남\n",
    "- 여\n",
    "- 기타 불명\n",
    "\n",
    "- **남자가 사고를 일으키는 경우가 압도적으로 많음.**"
   ]
  },
  {
   "cell_type": "code",
   "execution_count": 50,
   "id": "2ce30312",
   "metadata": {},
   "outputs": [
    {
     "data": {
      "text/plain": [
       "array([1, 1, 1, ..., 1, 1, 1])"
      ]
     },
     "execution_count": 50,
     "metadata": {},
     "output_type": "execute_result"
    }
   ],
   "source": [
    "lbl8 = LabelEncoder()\n",
    "Data_Label8 = lbl8.fit_transform( df['가해자성별'] )\n",
    "Data_Label8"
   ]
  },
  {
   "cell_type": "code",
   "execution_count": 51,
   "id": "a99af746",
   "metadata": {},
   "outputs": [
    {
     "data": {
      "text/plain": [
       "array([3, 1, 1, ..., 1, 1, 1])"
      ]
     },
     "execution_count": 51,
     "metadata": {},
     "output_type": "execute_result"
    }
   ],
   "source": [
    "lbl9 = LabelEncoder()\n",
    "Data_Label9 = lbl9.fit_transform( df['피해자성별'] )\n",
    "Data_Label9"
   ]
  },
  {
   "cell_type": "code",
   "execution_count": 52,
   "id": "b01d6420",
   "metadata": {},
   "outputs": [
    {
     "data": {
      "text/plain": [
       "{0: '기타불명', 1: '남', 2: '여'}"
      ]
     },
     "execution_count": 52,
     "metadata": {},
     "output_type": "execute_result"
    }
   ],
   "source": [
    "df_가해자성별_dic = { idx : sex for idx, sex in enumerate(list(lbl8.classes_)) }\n",
    "df_가해자성별_dic"
   ]
  },
  {
   "cell_type": "code",
   "execution_count": 53,
   "id": "5319cf43",
   "metadata": {},
   "outputs": [
    {
     "data": {
      "text/plain": [
       "{0: '기타불명', 1: '남', 2: '여'}"
      ]
     },
     "execution_count": 53,
     "metadata": {},
     "output_type": "execute_result"
    }
   ],
   "source": [
    "df_피해자성별_dic = { idx : sex for idx, sex in enumerate(list(lbl8.classes_)) }\n",
    "df_피해자성별_dic"
   ]
  },
  {
   "cell_type": "code",
   "execution_count": 54,
   "id": "5fa9ff0c",
   "metadata": {},
   "outputs": [
    {
     "data": {
      "image/png": "[encoded data removed]",
      "text/plain": [
       "<Figure size 432x288 with 1 Axes>"
      ]
     },
     "metadata": {
      "needs_background": "light"
     },
     "output_type": "display_data"
    }
   ],
   "source": [
    "local_list8 = [ df_가해자성별_dic.get(i) for i in Data_Label8 ]\n",
    "local_list9 = [ df_피해자성별_dic.get(i) for i in Data_Label9 ]\n",
    "\n",
    "local_df8 = pd.DataFrame(local_list8).value_counts()\n",
    "local_df9 = pd.DataFrame(local_list9).value_counts()\n",
    "\n",
    "# sb.barplot([i[0] for i in list(local_df8.index)], local_df8.values, palette='Set2', alpha=.5)\n",
    "# plt.xlabel('성별')\n",
    "# plt.ylabel('사고 건수')\n",
    "\n",
    "a=pd.DataFrame()\n",
    "a['가해자성별']=local_df8\n",
    "a['피해자성별']=local_df9\n",
    "\n",
    "a=a.rename(index={'없음':'여'})\n",
    "\n",
    "a.plot.bar(color=['coral', 'lightcoral'], rot=0)\n",
    "plt.title('가해자/피해자 성별')\n",
    "plt.xlabel('성별')\n",
    "plt.ylabel('사고 건수')\n",
    "plt.show()"
   ]
  },
  {
   "cell_type": "code",
   "execution_count": 55,
   "id": "0d51ea44",
   "metadata": {},
   "outputs": [],
   "source": [
    "df['가해자성별'] = Data_Label8\n",
    "df['피해자성별'] = Data_Label9"
   ]
  },
  {
   "cell_type": "markdown",
   "id": "a31c18c2",
   "metadata": {},
   "source": [
    "#### 가해자연령\n",
    "- 중장년층(40 ~ 60세)가 일으키는 사고 건수가 가장 많음."
   ]
  },
  {
   "cell_type": "code",
   "execution_count": 56,
   "id": "f7592d73",
   "metadata": {},
   "outputs": [],
   "source": [
    "lbl9 = LabelEncoder()\n",
    "lbl10 = LabelEncoder()\n",
    "Data_Label9 = lbl9.fit_transform( df['가해자연령'] )\n",
    "Data_Label10 = lbl10.fit_transform( df['피해자연령'] )"
   ]
  },
  {
   "cell_type": "code",
   "execution_count": 57,
   "id": "0a4cc8c3",
   "metadata": {},
   "outputs": [],
   "source": [
    "df_가해자연령_dic = { idx : age for idx, age in enumerate(list(lbl9.classes_)) }\n",
    "df_피해자연령_dic = { idx : age for idx, age in enumerate(list(lbl10.classes_)) }"
   ]
  },
  {
   "cell_type": "code",
   "execution_count": 58,
   "id": "f7fc5f20",
   "metadata": {},
   "outputs": [
    {
     "data": {
      "image/png": "[encoded data removed]",
      "text/plain": [
       "<Figure size 432x288 with 1 Axes>"
      ]
     },
     "metadata": {
      "needs_background": "light"
     },
     "output_type": "display_data"
    }
   ],
   "source": [
    "local_list9  = [ df_가해자연령_dic.get(i) for i in Data_Label9 ]\n",
    "local_list10 = [ df_피해자연령_dic.get(i) for i in Data_Label10 ]\n",
    "local_df9  = pd.DataFrame(local_list9).value_counts()\n",
    "local_df10 = pd.DataFrame(local_list10).value_counts()\n",
    "\n",
    "a = pd.DataFrame()\n",
    "a['가해자연령'] = local_df9\n",
    "a['피해자연령'] = local_df10\n",
    "\n",
    "a.plot.bar(color=['salmon','lightblue'])\n",
    "plt.title('가해자/피해자 연령')\n",
    "plt.show()"
   ]
  },
  {
   "cell_type": "code",
   "execution_count": 59,
   "id": "70a4eb6a",
   "metadata": {},
   "outputs": [
    {
     "data": {
      "image/png": "[encoded data removed]",
      "text/plain": [
       "<Figure size 432x288 with 1 Axes>"
      ]
     },
     "metadata": {
      "needs_background": "light"
     },
     "output_type": "display_data"
    }
   ],
   "source": [
    "s = [i[0] for i in a.index]\n",
    "df_age_1 = df[['가해자연령','Risk']]\n",
    "df_age_s1 = df_age_1.sort_values(by='가해자연령')\n",
    "df_age_group1 = df_age_s1.groupby(by='가해자연령')\n",
    "df_age_group1 = df_age_group1.mean()\n",
    "\n",
    "df_age_2 = df[['피해자연령','Risk']]\n",
    "df_age_s2 = df_age_2.sort_values(by='피해자연령')\n",
    "df_age_group2 = df_age_s2.groupby(by='피해자연령')\n",
    "df_age_group2 = df_age_group2.mean()[:-1]\n",
    "\n",
    "a = pd.DataFrame()\n",
    "a['연령'] = s\n",
    "a.index = s\n",
    "a['가해자 Risk']=df_age_group1['Risk'].values\n",
    "a['피해자 Risk']=df_age_group2['Risk'].values\n",
    "a.drop(['연령'], axis=1, inplace=True)\n",
    "a.plot.bar(color = ['salmon', 'plum'])\n",
    "plt.title('가해/피해자 연령별 Risk')\n",
    "plt.show()"
   ]
  },
  {
   "cell_type": "code",
   "execution_count": 60,
   "id": "6397439f",
   "metadata": {},
   "outputs": [
    {
     "data": {
      "text/html": [
       "<div>\n",
       "<style scoped>\n",
       "    .dataframe tbody tr th:only-of-type {\n",
       "        vertical-align: middle;\n",
       "    }\n",
       "\n",
       "    .dataframe tbody tr th {\n",
       "        vertical-align: top;\n",
       "    }\n",
       "\n",
       "    .dataframe thead th {\n",
       "        text-align: right;\n",
       "    }\n",
       "</style>\n",
       "<table border=\"1\" class=\"dataframe\">\n",
       "  <thead>\n",
       "    <tr style=\"text-align: right;\">\n",
       "      <th></th>\n",
       "      <th>Risk</th>\n",
       "    </tr>\n",
       "    <tr>\n",
       "      <th>가해자연령</th>\n",
       "      <th></th>\n",
       "    </tr>\n",
       "  </thead>\n",
       "  <tbody>\n",
       "    <tr>\n",
       "      <th>20세이하</th>\n",
       "      <td>3.273973</td>\n",
       "    </tr>\n",
       "    <tr>\n",
       "      <th>21-30세</th>\n",
       "      <td>3.594919</td>\n",
       "    </tr>\n",
       "    <tr>\n",
       "      <th>31-40세</th>\n",
       "      <td>3.957168</td>\n",
       "    </tr>\n",
       "    <tr>\n",
       "      <th>41-50세</th>\n",
       "      <td>4.094044</td>\n",
       "    </tr>\n",
       "    <tr>\n",
       "      <th>51-60세</th>\n",
       "      <td>4.013076</td>\n",
       "    </tr>\n",
       "    <tr>\n",
       "      <th>61-64세</th>\n",
       "      <td>4.238443</td>\n",
       "    </tr>\n",
       "    <tr>\n",
       "      <th>65세이상</th>\n",
       "      <td>4.243750</td>\n",
       "    </tr>\n",
       "    <tr>\n",
       "      <th>불명</th>\n",
       "      <td>1.965368</td>\n",
       "    </tr>\n",
       "  </tbody>\n",
       "</table>\n",
       "</div>"
      ],
      "text/plain": [
       "            Risk\n",
       "가해자연령           \n",
       "20세이하   3.273973\n",
       "21-30세  3.594919\n",
       "31-40세  3.957168\n",
       "41-50세  4.094044\n",
       "51-60세  4.013076\n",
       "61-64세  4.238443\n",
       "65세이상   4.243750\n",
       "불명      1.965368"
      ]
     },
     "execution_count": 60,
     "metadata": {},
     "output_type": "execute_result"
    }
   ],
   "source": [
    "df_age_group1 "
   ]
  },
  {
   "cell_type": "code",
   "execution_count": null,
   "id": "dc1a825a",
   "metadata": {},
   "outputs": [],
   "source": []
  },
  {
   "cell_type": "code",
   "execution_count": 61,
   "id": "85cb3b5d",
   "metadata": {},
   "outputs": [],
   "source": [
    "df['가해자연령'] = Data_Label9\n",
    "df['피해자연령'] = Data_Label10"
   ]
  },
  {
   "cell_type": "markdown",
   "id": "396aaade",
   "metadata": {},
   "source": [
    "#### 피해자 & 가해당사자종별\n",
    "- 승용차, 화물차의 사고 빈도가 매우 높음\n",
    "- 의외로 대형 사고 발생 가능성이 큰 화물차의 사고 빈도가 높다는 점에 주의"
   ]
  },
  {
   "cell_type": "code",
   "execution_count": 62,
   "id": "28f54f03",
   "metadata": {},
   "outputs": [],
   "source": [
    "lbl10 = LabelEncoder()\n",
    "Data_Label10 = lbl10.fit_transform( df['가해당사자종별'] )\n",
    "lbl11 = LabelEncoder()\n",
    "Data_Label11 = lbl11.fit_transform( df['피해당사자종별'] )"
   ]
  },
  {
   "cell_type": "code",
   "execution_count": 63,
   "id": "50fc5cab",
   "metadata": {},
   "outputs": [],
   "source": [
    "df_가해당사자종별_dic = { idx : age for idx, age in enumerate(list(lbl10.classes_)) }\n",
    "df_피해당사자종별_dic = { idx : age for idx, age in enumerate(list(lbl11.classes_)) }"
   ]
  },
  {
   "cell_type": "code",
   "execution_count": 64,
   "id": "7034ecac",
   "metadata": {},
   "outputs": [
    {
     "data": {
      "image/png": "[encoded data removed]",
      "text/plain": [
       "<Figure size 576x360 with 1 Axes>"
      ]
     },
     "metadata": {
      "needs_background": "light"
     },
     "output_type": "display_data"
    }
   ],
   "source": [
    "local_list10 = [ df_가해당사자종별_dic.get(i) for i in Data_Label10 ]\n",
    "local_list11 = [ df_피해당사자종별_dic.get(i) for i in Data_Label11 ]\n",
    "local_df10 = pd.DataFrame(local_list10).value_counts()\n",
    "local_df11 = pd.DataFrame(local_list11).value_counts()\n",
    "plt.figure(figsize=(8, 5))\n",
    "sb.barplot([i[0] for i in list(local_df10.index)], local_df10.values, palette='rainbow', alpha=.5)\n",
    "plt.xlabel('가해당사자종별')\n",
    "plt.ylabel('사고 건수')\n",
    "plt.show()"
   ]
  },
  {
   "cell_type": "code",
   "execution_count": 65,
   "id": "bb65eae0",
   "metadata": {},
   "outputs": [],
   "source": [
    "df['가해당사자종별'] = Data_Label10\n",
    "df['피해당사자종별'] = Data_Label11"
   ]
  },
  {
   "cell_type": "markdown",
   "id": "39f2f863",
   "metadata": {},
   "source": [
    "#### 피해자신체상해정도 & 가해자신체상해정도 \n",
    "- 고속도로 위에서의 중상 비율이 매우 높음."
   ]
  },
  {
   "cell_type": "code",
   "execution_count": 66,
   "id": "e1164fc5",
   "metadata": {},
   "outputs": [],
   "source": [
    "lbl13 = LabelEncoder()\n",
    "lbl14 = LabelEncoder()\n",
    "Data_Label13 = lbl13 .fit_transform( df['피해자신체상해정도'] )\n",
    "Data_Label14 = lbl14.fit_transform( df['가해자신체상해정도'] )"
   ]
  },
  {
   "cell_type": "code",
   "execution_count": 67,
   "id": "fb0dd9f0",
   "metadata": {},
   "outputs": [],
   "source": [
    "df_피해자신체상해정도_dic = { idx : damage for idx, damage in enumerate(list(lbl13.classes_)) }\n",
    "df_가해자신체상해정도_dic = { idx : damage for idx, damage in enumerate(list(lbl14.classes_)) }"
   ]
  },
  {
   "cell_type": "code",
   "execution_count": 68,
   "id": "4f36f101",
   "metadata": {},
   "outputs": [
    {
     "data": {
      "image/png": "[encoded data removed]",
      "text/plain": [
       "<Figure size 432x288 with 1 Axes>"
      ]
     },
     "metadata": {
      "needs_background": "light"
     },
     "output_type": "display_data"
    }
   ],
   "source": [
    "local_list13 = [ df_피해자신체상해정도_dic.get(i) for i in Data_Label13 ]\n",
    "local_df13 = pd.DataFrame(local_list13).value_counts()\n",
    "\n",
    "local_list14 = [ df_가해자신체상해정도_dic.get(i) for i in Data_Label14 ]\n",
    "local_df14= pd.DataFrame(local_list14).value_counts()\n",
    "\n",
    "# plt.figure(figsize=(8, 5))\n",
    "# sb.barplot([i[0] for i in list(local_df11.index)], local_df11.values, palette='rainbow', alpha=.5)\n",
    "# plt.xlabel('피해자신체상해정도')\n",
    "# plt.ylabel('사고 건수')\n",
    "\n",
    "신체상해정도비교_df = pd.DataFrame()\n",
    "신체상해정도비교_df['피해자신체상해정도'] = local_df13\n",
    "신체상해정도비교_df['가해자신체상해정도'] = local_df14\n",
    "\n",
    "신체상해정도비교_df.plot.bar(color=['lightsteelblue', 'lime'])\n",
    "plt.xlabel('피해자 및 가해자 신체상해정도')\n",
    "plt.ylabel('사고건수')\n",
    "plt.show()\n"
   ]
  },
  {
   "cell_type": "code",
   "execution_count": 69,
   "id": "351a9365",
   "metadata": {},
   "outputs": [],
   "source": [
    "df['피해자신체상해정도'] = Data_Label13\n",
    "df['가해자신체상해정도'] = Data_Label14"
   ]
  },
  {
   "cell_type": "markdown",
   "id": "8b0d85ff",
   "metadata": {},
   "source": [
    "#### 가해차량용도_대분류\n",
    "- 비사업용 비율이 높은 것으로 보아, 일 도중 아닌 사고의 비율이 크다."
   ]
  },
  {
   "cell_type": "code",
   "execution_count": 70,
   "id": "7164add3",
   "metadata": {},
   "outputs": [
    {
     "data": {
      "text/plain": [
       "array([2, 2, 3, ..., 2, 2, 2])"
      ]
     },
     "execution_count": 70,
     "metadata": {},
     "output_type": "execute_result"
    }
   ],
   "source": [
    "lbl12 = LabelEncoder()\n",
    "Data_Label12 = lbl12.fit_transform( df['가해차량용도_대분류'] )\n",
    "Data_Label12"
   ]
  },
  {
   "cell_type": "code",
   "execution_count": 71,
   "id": "d4429a7d",
   "metadata": {},
   "outputs": [],
   "source": [
    "df['가해차량용도_대분류'] = Data_Label12"
   ]
  },
  {
   "cell_type": "code",
   "execution_count": 72,
   "id": "15ee66f9",
   "metadata": {},
   "outputs": [
    {
     "data": {
      "text/plain": [
       "{0: '기타', 1: '불명', 2: '비사업용', 3: '사업용', 4: '이륜차', 5: '자전거'}"
      ]
     },
     "execution_count": 72,
     "metadata": {},
     "output_type": "execute_result"
    }
   ],
   "source": [
    "df_가해차량용도_대분류_dic = { idx : car for idx, car in enumerate(list(lbl12.classes_)) }\n",
    "df_가해차량용도_대분류_dic "
   ]
  },
  {
   "cell_type": "code",
   "execution_count": 73,
   "id": "aebf5fb2",
   "metadata": {},
   "outputs": [
    {
     "data": {
      "image/png": "[encoded data removed]",
      "text/plain": [
       "<Figure size 576x360 with 1 Axes>"
      ]
     },
     "metadata": {
      "needs_background": "light"
     },
     "output_type": "display_data"
    }
   ],
   "source": [
    "local_list12 = [ df_가해차량용도_대분류_dic.get(i) for i in Data_Label12 ]\n",
    "local_df12 = pd.DataFrame(local_list12).value_counts()\n",
    "plt.figure(figsize=(8, 5))\n",
    "sb.barplot([i[0] for i in list(local_df12.index)], local_df12.values, palette='rainbow', alpha=.5)\n",
    "plt.xlabel('가해차량용도_대분류')\n",
    "plt.ylabel('사고 건수')\n",
    "plt.show()"
   ]
  },
  {
   "cell_type": "markdown",
   "id": "bfb55a28",
   "metadata": {},
   "source": [
    "#### 가해차량용도_중분류\n",
    "- 승용차, 화물차의 사고 건수가 가장 많음."
   ]
  },
  {
   "cell_type": "code",
   "execution_count": 74,
   "id": "08d425d8",
   "metadata": {},
   "outputs": [
    {
     "data": {
      "text/plain": [
       "array([7, 7, 9, ..., 7, 7, 7])"
      ]
     },
     "execution_count": 74,
     "metadata": {},
     "output_type": "execute_result"
    }
   ],
   "source": [
    "lbl13 = LabelEncoder()\n",
    "Data_Label13 = lbl13.fit_transform( df['가해차량용도_중분류'] )\n",
    "Data_Label13"
   ]
  },
  {
   "cell_type": "code",
   "execution_count": 75,
   "id": "45b41948",
   "metadata": {},
   "outputs": [],
   "source": [
    "df['가해차량용도_중분류']  = Data_Label13"
   ]
  },
  {
   "cell_type": "code",
   "execution_count": 76,
   "id": "bd0fefe3",
   "metadata": {},
   "outputs": [
    {
     "data": {
      "text/plain": [
       "{0: '기타',\n",
       " 1: '기타/건설기계',\n",
       " 2: '노선버스',\n",
       " 3: '덤프트럭',\n",
       " 4: '렌터카',\n",
       " 5: '버스',\n",
       " 6: '불명',\n",
       " 7: '승용차',\n",
       " 8: '어린이통학버스',\n",
       " 9: '위험물운송',\n",
       " 10: '이륜차',\n",
       " 11: '자전거',\n",
       " 12: '전세버스',\n",
       " 13: '콘크리트믹서',\n",
       " 14: '택시',\n",
       " 15: '화물차'}"
      ]
     },
     "execution_count": 76,
     "metadata": {},
     "output_type": "execute_result"
    }
   ],
   "source": [
    "df_가해차량용도_중분류_dic = { idx : car for idx, car in enumerate(list(lbl13.classes_)) }\n",
    "df_가해차량용도_중분류_dic "
   ]
  },
  {
   "cell_type": "code",
   "execution_count": 77,
   "id": "7a6c72db",
   "metadata": {},
   "outputs": [
    {
     "data": {
      "image/png": "[encoded data removed]",
      "text/plain": [
       "<Figure size 576x360 with 1 Axes>"
      ]
     },
     "metadata": {
      "needs_background": "light"
     },
     "output_type": "display_data"
    }
   ],
   "source": [
    "local_list13 = [ df_가해차량용도_중분류_dic.get(i) for i in Data_Label13 ]\n",
    "local_df13 = pd.DataFrame(local_list13).value_counts()\n",
    "plt.figure(figsize=(8, 5))\n",
    "sb.barplot([i[0] for i in list(local_df13.index)], local_df13.values, palette='rainbow', alpha=.5)\n",
    "plt.xticks(rotation = -45)\n",
    "plt.xlabel('가해차량용도_중분류')\n",
    "plt.ylabel('사고 건수')\n",
    "plt.show()"
   ]
  },
  {
   "cell_type": "markdown",
   "id": "160024fc",
   "metadata": {},
   "source": [
    "#### 가해차량용도"
   ]
  },
  {
   "cell_type": "code",
   "execution_count": 78,
   "id": "61e15da8",
   "metadata": {},
   "outputs": [
    {
     "data": {
      "text/plain": [
       "array([ 9,  9, 13, ...,  9,  9,  9])"
      ]
     },
     "execution_count": 78,
     "metadata": {},
     "output_type": "execute_result"
    }
   ],
   "source": [
    "lbl14 = LabelEncoder()\n",
    "Data_Label14 = lbl14.fit_transform( df['가해차량용도'] )\n",
    "Data_Label14"
   ]
  },
  {
   "cell_type": "code",
   "execution_count": 79,
   "id": "d8a46e61",
   "metadata": {},
   "outputs": [],
   "source": [
    "df['가해차량용도'] = Data_Label14"
   ]
  },
  {
   "cell_type": "code",
   "execution_count": 80,
   "id": "f5f8d9f9",
   "metadata": {},
   "outputs": [
    {
     "data": {
      "text/plain": [
       "{0: '개인택시',\n",
       " 1: '고속버스',\n",
       " 2: '기타',\n",
       " 3: '기타/건설기계',\n",
       " 4: '덤프트럭',\n",
       " 5: '렌터카',\n",
       " 6: '버스',\n",
       " 7: '법인택시',\n",
       " 8: '불명',\n",
       " 9: '승용차',\n",
       " 10: '시내버스',\n",
       " 11: '시외버스',\n",
       " 12: '어린이통학버스',\n",
       " 13: '위험물운송',\n",
       " 14: '이륜차',\n",
       " 15: '자전거',\n",
       " 16: '전세버스',\n",
       " 17: '콘크리트믹서',\n",
       " 18: '화물차'}"
      ]
     },
     "execution_count": 80,
     "metadata": {},
     "output_type": "execute_result"
    }
   ],
   "source": [
    "df_가해차량용도_dic = { idx : car for idx, car in enumerate(list(lbl14.classes_)) }\n",
    "df_가해차량용도_dic "
   ]
  },
  {
   "cell_type": "code",
   "execution_count": 81,
   "id": "28385b4d",
   "metadata": {},
   "outputs": [
    {
     "data": {
      "image/png": "[encoded data removed]",
      "text/plain": [
       "<Figure size 576x360 with 1 Axes>"
      ]
     },
     "metadata": {
      "needs_background": "light"
     },
     "output_type": "display_data"
    }
   ],
   "source": [
    "local_list14 = [ df_가해차량용도_dic.get(i) for i in Data_Label14 ]\n",
    "local_df14 = pd.DataFrame(local_list14).value_counts()\n",
    "plt.figure(figsize=(8, 5))\n",
    "sb.barplot([i[0] for i in list(local_df14.index)], local_df14.values, palette='rainbow', alpha=.5)\n",
    "plt.xticks(rotation = -45)\n",
    "plt.xlabel('가해차량용도')\n",
    "plt.ylabel('사고 건수')\n",
    "plt.show()"
   ]
  },
  {
   "cell_type": "markdown",
   "id": "448e2ed8",
   "metadata": {},
   "source": [
    "#### 피해차량용도_대분류"
   ]
  },
  {
   "cell_type": "code",
   "execution_count": 82,
   "id": "f62a4005",
   "metadata": {},
   "outputs": [
    {
     "data": {
      "text/plain": [
       "array([3, 3, 4, ..., 3, 4, 4])"
      ]
     },
     "execution_count": 82,
     "metadata": {},
     "output_type": "execute_result"
    }
   ],
   "source": [
    "lbl15 = LabelEncoder()\n",
    "Data_Label15 = lbl15.fit_transform( df['피해차량용도_대분류'] )\n",
    "Data_Label15"
   ]
  },
  {
   "cell_type": "code",
   "execution_count": 83,
   "id": "026ae735",
   "metadata": {},
   "outputs": [],
   "source": [
    "df['피해차량용도_대분류'] = Data_Label15"
   ]
  },
  {
   "cell_type": "code",
   "execution_count": 84,
   "id": "1fd2ac34",
   "metadata": {},
   "outputs": [
    {
     "data": {
      "text/plain": [
       "{0: '기타', 1: '보행자', 2: '불명', 3: '비사업용', 4: '사업용', 5: '없음', 6: '이륜차', 7: '자전거'}"
      ]
     },
     "execution_count": 84,
     "metadata": {},
     "output_type": "execute_result"
    }
   ],
   "source": [
    "df_피해차량용도_대분류_dic = { idx : car for idx, car in enumerate(list(lbl15.classes_)) }\n",
    "df_피해차량용도_대분류_dic "
   ]
  },
  {
   "cell_type": "code",
   "execution_count": 85,
   "id": "788f3454",
   "metadata": {},
   "outputs": [
    {
     "data": {
      "image/png": "[encoded data removed]",
      "text/plain": [
       "<Figure size 576x360 with 1 Axes>"
      ]
     },
     "metadata": {
      "needs_background": "light"
     },
     "output_type": "display_data"
    }
   ],
   "source": [
    "local_list14 = [ df_피해차량용도_대분류_dic.get(i) for i in Data_Label14 ]\n",
    "local_df14 = pd.DataFrame(local_list14).value_counts()\n",
    "plt.figure(figsize=(8, 5))\n",
    "sb.barplot([i[0] for i in list(local_df14.index)], local_df14.values, palette='rainbow', alpha=.5)\n",
    "plt.xlabel('피해차량용도_대분류')\n",
    "plt.ylabel('사고 건수')\n",
    "plt.show()"
   ]
  },
  {
   "cell_type": "markdown",
   "id": "9443d208",
   "metadata": {},
   "source": [
    "#### 피해차량용도_중분류"
   ]
  },
  {
   "cell_type": "code",
   "execution_count": 86,
   "id": "abf174a6",
   "metadata": {},
   "outputs": [
    {
     "data": {
      "text/plain": [
       "array([ 8,  8,  4, ...,  8, 14, 18])"
      ]
     },
     "execution_count": 86,
     "metadata": {},
     "output_type": "execute_result"
    }
   ],
   "source": [
    "lbl16 = LabelEncoder()\n",
    "Data_Label16 = lbl16.fit_transform( df['피해차량용도_중분류'] )\n",
    "Data_Label16"
   ]
  },
  {
   "cell_type": "code",
   "execution_count": 87,
   "id": "093dd919",
   "metadata": {},
   "outputs": [],
   "source": [
    "df['피해차량용도_중분류'] = Data_Label16"
   ]
  },
  {
   "cell_type": "code",
   "execution_count": 88,
   "id": "0db62341",
   "metadata": {},
   "outputs": [
    {
     "data": {
      "text/plain": [
       "{0: '기타',\n",
       " 1: '기타/건설기계',\n",
       " 2: '노선버스',\n",
       " 3: '덤프트럭',\n",
       " 4: '렌터카',\n",
       " 5: '버스',\n",
       " 6: '보행자',\n",
       " 7: '불명',\n",
       " 8: '승용차',\n",
       " 9: '어린이통학버스',\n",
       " 10: '없음',\n",
       " 11: '위험물운송',\n",
       " 12: '이륜차',\n",
       " 13: '자전거',\n",
       " 14: '전세버스',\n",
       " 15: '콘크리트믹서',\n",
       " 16: '택시',\n",
       " 17: '특수여객(장의)',\n",
       " 18: '화물차'}"
      ]
     },
     "execution_count": 88,
     "metadata": {},
     "output_type": "execute_result"
    }
   ],
   "source": [
    "df_피해차량용도_중분류_dic = { idx : car for idx, car in enumerate(list(lbl16.classes_)) }\n",
    "df_피해차량용도_중분류_dic "
   ]
  },
  {
   "cell_type": "code",
   "execution_count": 89,
   "id": "9356b578",
   "metadata": {},
   "outputs": [
    {
     "data": {
      "image/png": "[encoded data removed]",
      "text/plain": [
       "<Figure size 576x360 with 1 Axes>"
      ]
     },
     "metadata": {
      "needs_background": "light"
     },
     "output_type": "display_data"
    }
   ],
   "source": [
    "local_list16 = [ df_피해차량용도_대분류_dic.get(i) for i in Data_Label16 ]\n",
    "local_df16 = pd.DataFrame(local_list16).value_counts()\n",
    "plt.figure(figsize=(8, 5))\n",
    "sb.barplot([i[0] for i in list(local_df16.index)], local_df16.values, palette='rainbow', alpha=.5)\n",
    "plt.xlabel('피해차량용도_대분류')\n",
    "plt.ylabel('사고 건수')\n",
    "plt.show()"
   ]
  },
  {
   "cell_type": "markdown",
   "id": "c48cec41",
   "metadata": {},
   "source": [
    "#### 피해차량용도"
   ]
  },
  {
   "cell_type": "code",
   "execution_count": 90,
   "id": "efb68628",
   "metadata": {},
   "outputs": [
    {
     "data": {
      "text/plain": [
       "array([11, 11,  5, ..., 11, 19, 22])"
      ]
     },
     "execution_count": 90,
     "metadata": {},
     "output_type": "execute_result"
    }
   ],
   "source": [
    "lbl17 = LabelEncoder()\n",
    "Data_Label17 = lbl17.fit_transform( df['피해차량용도'] )\n",
    "Data_Label17"
   ]
  },
  {
   "cell_type": "code",
   "execution_count": 91,
   "id": "32fb5732",
   "metadata": {},
   "outputs": [],
   "source": [
    "df['피해차량용도'] = Data_Label17"
   ]
  },
  {
   "cell_type": "code",
   "execution_count": 92,
   "id": "7ff63706",
   "metadata": {},
   "outputs": [
    {
     "data": {
      "text/plain": [
       "{0: '개인택시',\n",
       " 1: '고속버스',\n",
       " 2: '기타',\n",
       " 3: '기타/건설기계',\n",
       " 4: '덤프트럭',\n",
       " 5: '렌터카',\n",
       " 6: '마을버스',\n",
       " 7: '버스',\n",
       " 8: '법인택시',\n",
       " 9: '보행자',\n",
       " 10: '불명',\n",
       " 11: '승용차',\n",
       " 12: '시내버스',\n",
       " 13: '시외버스',\n",
       " 14: '어린이통학버스',\n",
       " 15: '없음',\n",
       " 16: '위험물운송',\n",
       " 17: '이륜차',\n",
       " 18: '자전거',\n",
       " 19: '전세버스',\n",
       " 20: '콘크리트믹서',\n",
       " 21: '특수여객(장의)',\n",
       " 22: '화물차'}"
      ]
     },
     "execution_count": 92,
     "metadata": {},
     "output_type": "execute_result"
    }
   ],
   "source": [
    "df_피해차량용도_dic = { idx : car for idx, car in enumerate(list(lbl17.classes_)) }\n",
    "df_피해차량용도_dic "
   ]
  },
  {
   "cell_type": "code",
   "execution_count": 93,
   "id": "4e08f0dc",
   "metadata": {},
   "outputs": [
    {
     "data": {
      "image/png": "[encoded data removed]",
      "text/plain": [
       "<Figure size 576x360 with 1 Axes>"
      ]
     },
     "metadata": {
      "needs_background": "light"
     },
     "output_type": "display_data"
    }
   ],
   "source": [
    "local_list17 = [ df_피해차량용도_dic.get(i) for i in Data_Label17 ]\n",
    "local_df17 = pd.DataFrame(local_list17).value_counts()\n",
    "plt.figure(figsize=(8, 5))\n",
    "sb.barplot([i[0] for i in list(local_df17.index)], local_df17.values, palette='rainbow', alpha=.5)\n",
    "plt.xticks(rotation = 90)\n",
    "plt.xlabel('피해차량용도')\n",
    "plt.ylabel('사고 건수')\n",
    "plt.show()"
   ]
  },
  {
   "cell_type": "markdown",
   "id": "3997bddd",
   "metadata": {},
   "source": [
    "#### 기상상태 & 노면상태"
   ]
  },
  {
   "cell_type": "code",
   "execution_count": 94,
   "id": "c28ce8dc",
   "metadata": {},
   "outputs": [],
   "source": [
    "lbl22 = LabelEncoder()\n",
    "Data_Label22 = lbl22.fit_transform( df['노면상태'] )\n",
    "df_노면상태_dic = { idx : car for idx, car in enumerate(list(lbl22.classes_)) }\n",
    "\n",
    "lbl23 = LabelEncoder()\n",
    "Data_Label23 = lbl23.fit_transform( df['기상상태'] )\n",
    "df_기상상태_dic = { idx : car for idx, car in enumerate(list(lbl23.classes_)) }\n",
    "\n",
    "df['노면상태'] = Data_Label22\n",
    "local_list22 = [ df_노면상태_dic.get(i) for i in Data_Label22 ]\n",
    "\n",
    "df['기상상태'] = Data_Label23\n",
    "local_list23 = [ df_기상상태_dic.get(i) for i in Data_Label23 ]"
   ]
  },
  {
   "cell_type": "code",
   "execution_count": 95,
   "id": "0ff34e3c",
   "metadata": {},
   "outputs": [
    {
     "data": {
      "image/png": "[encoded data removed]",
      "text/plain": [
       "<Figure size 576x360 with 1 Axes>"
      ]
     },
     "metadata": {
      "needs_background": "light"
     },
     "output_type": "display_data"
    }
   ],
   "source": [
    "local_df23 = pd.DataFrame(local_list23).value_counts()\n",
    "plt.figure(figsize=(8, 5))\n",
    "sb.barplot([i[0] for i in list(local_df23.index)], local_df23.values, palette='rainbow', alpha=.5)\n",
    "plt.xlabel('기상상태')\n",
    "plt.ylabel('사고 건수')\n",
    "plt.show()"
   ]
  },
  {
   "cell_type": "code",
   "execution_count": 96,
   "id": "512298a0",
   "metadata": {},
   "outputs": [
    {
     "data": {
      "image/png": "[encoded data removed]",
      "text/plain": [
       "<Figure size 576x360 with 1 Axes>"
      ]
     },
     "metadata": {
      "needs_background": "light"
     },
     "output_type": "display_data"
    }
   ],
   "source": [
    "local_list22 = [ df_노면상태_dic.get(i) for i in Data_Label22 ]\n",
    "local_df22 = pd.DataFrame(local_list22).value_counts()\n",
    "plt.figure(figsize=(8, 5))\n",
    "sb.barplot([i[0] for i in list(local_df22.index)], local_df22.values, palette='rainbow', alpha=.5)\n",
    "plt.xlabel('노면상태')\n",
    "plt.ylabel('사고 건수')\n",
    "plt.show()"
   ]
  },
  {
   "cell_type": "code",
   "execution_count": 97,
   "id": "a353eb1a",
   "metadata": {},
   "outputs": [
    {
     "data": {
      "image/png": "[encoded data removed]",
      "text/plain": [
       "<Figure size 432x288 with 2 Axes>"
      ]
     },
     "metadata": {
      "needs_background": "light"
     },
     "output_type": "display_data"
    }
   ],
   "source": [
    "import sklearn.metrics as metrics\n",
    "df1 = df[['노면상태', '기상상태']]\n",
    "cm  = metrics.confusion_matrix(df['노면상태'].values, df['기상상태'].values)\n",
    "sb.heatmap( cm, annot=True, cmap='BuPu', xticklabels=list(lbl23.classes_), yticklabels=list(lbl22.classes_) )\n",
    "plt.show()"
   ]
  },
  {
   "cell_type": "markdown",
   "id": "6a19d4fe",
   "metadata": {},
   "source": [
    "- https://blog.naver.com/chunsa0127/222074830394"
   ]
  },
  {
   "cell_type": "code",
   "execution_count": 98,
   "id": "18e3c8a6",
   "metadata": {},
   "outputs": [],
   "source": [
    "def lambda_coefficient(data) :\n",
    "    max_column  = np.max(data.sum(axis=0))\n",
    "    denominator = np.sum(data.sum()) - max_column\n",
    "    numerator   = data.apply(lambda x: np.sum(x)- np.max(x), axis=1)\n",
    "    numerator   = np.sum(numerator)\n",
    "    return round(numerator/denominator, 4)"
   ]
  },
  {
   "cell_type": "code",
   "execution_count": 99,
   "id": "48c32df2",
   "metadata": {},
   "outputs": [
    {
     "name": "stdout",
     "output_type": "stream",
     "text": [
      "기상상태와 노면상태의 람다계수 : 0.7548\n"
     ]
    }
   ],
   "source": [
    "print(f'기상상태와 노면상태의 람다계수 : {lambda_coefficient(df1)}')"
   ]
  },
  {
   "cell_type": "markdown",
   "id": "e1182091",
   "metadata": {},
   "source": [
    "#### Feature간의 람다 상관 계수값 파악\n",
    "- 75% 이하의 조합만을 추출(상대적으로 상관관계가 낮게 판단되는 케이스)\n",
    "- 발생지_시도 변수가 다른 변수와의 상관성이 상대적으로 매우 낮은 양상을 보임."
   ]
  },
  {
   "cell_type": "code",
   "execution_count": 100,
   "id": "439a85a3",
   "metadata": {},
   "outputs": [],
   "source": [
    "# for i , j in list(combinations(df.iloc[:, 1: 25].columns, 2)) :\n",
    "#     data = df[[i, j]]\n",
    "#     coef = lambda_coefficient(data)\n",
    "#     if coef < 0.75 :\n",
    "#         print(f'{i}와 {j}의 람다 상관 계수값 : {coef}')"
   ]
  },
  {
   "cell_type": "markdown",
   "id": "240c6a71",
   "metadata": {},
   "source": [
    "#### 데이터 프레임 전처리 정리"
   ]
  },
  {
   "cell_type": "code",
   "execution_count": 101,
   "id": "369ce8b5",
   "metadata": {},
   "outputs": [],
   "source": [
    "# df.to_csv('data1.csv', encoding = 'euc-kr')"
   ]
  },
  {
   "cell_type": "markdown",
   "id": "f2068860",
   "metadata": {},
   "source": [
    "#### 지역명 반환 함수"
   ]
  },
  {
   "cell_type": "code",
   "execution_count": 100,
   "id": "84a6cc8c",
   "metadata": {},
   "outputs": [],
   "source": [
    "df1 = df.copy()\n",
    "local_list = [df_발생지_시군구_dic.get(i) for i in df['발생지_시군구']]\n",
    "df1['발생지_시군구'] = local_list\n",
    "df2 = df1.groupby('발생지_시군구').mean()['Risk']\n",
    "df2.to_csv('map.csv')"
   ]
  },
  {
   "cell_type": "code",
   "execution_count": null,
   "id": "5d6ebd39",
   "metadata": {},
   "outputs": [],
   "source": [
    "df1 = df.copy()\n",
    "local_list = [df_발생지_시군구_dic.get(i) for i in df['발생지_시군구']]\n",
    "df1['발생지_시군구'] = local_list\n",
    "df2 = df1.groupby('발생지_시군구').mean()['응급실 개수']\n",
    "df2.to_csv('emergency.csv')"
   ]
  },
  {
   "cell_type": "code",
   "execution_count": null,
   "id": "818582cf",
   "metadata": {},
   "outputs": [],
   "source": [
    "df1 = df.copy()\n",
    "local_list = [df_발생지_시군구_dic.get(i) for i in df['발생지_시군구']]\n",
    "df1['발생지_시군구'] = local_list\n",
    "df2 = df1.groupby('발생지_시군구').mean()['시군구별_인구']\n",
    "df2.to_csv('pop.csv')"
   ]
  }
 ],
 "metadata": {
  "kernelspec": {
   "display_name": "Python 3",
   "language": "python",
   "name": "python3"
  },
  "language_info": {
   "codemirror_mode": {
    "name": "ipython",
    "version": 3
   },
   "file_extension": ".py",
   "mimetype": "text/x-python",
   "name": "python",
   "nbconvert_exporter": "python",
   "pygments_lexer": "ipython3",
   "version": "3.8.8"
  }
 },
 "nbformat": 4,
 "nbformat_minor": 5
}
